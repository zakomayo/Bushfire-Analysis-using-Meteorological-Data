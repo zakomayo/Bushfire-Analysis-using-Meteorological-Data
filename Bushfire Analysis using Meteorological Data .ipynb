{
 "cells": [
  {
   "cell_type": "markdown",
   "metadata": {},
   "source": [
    "# Bushfire Analysis using Meteorological Data"
   ]
  },
  {
   "cell_type": "markdown",
   "metadata": {},
   "source": [
    "#### Name: Mohammad Zaki Gundagi\n"
   ]
  },
  {
   "cell_type": "markdown",
   "metadata": {},
   "source": [
    "## INTRODUCTION"
   ]
  },
  {
   "cell_type": "markdown",
   "metadata": {},
   "source": [
    "Our task is to predict the burned area of bushfire by using meteorological data that are known to infuence the wild fires. The dataset that we are going to use here were originally collected from the northeast region of Portugal between January 2000 and December 2003. "
   ]
  },
  {
   "cell_type": "markdown",
   "metadata": {},
   "source": [
    "## DATA EXPLORATION"
   ]
  },
  {
   "cell_type": "code",
   "execution_count": 1,
   "metadata": {},
   "outputs": [
    {
     "name": "stderr",
     "output_type": "stream",
     "text": [
      "Warning message:\n",
      "\"package 'ISLR' was built under R version 3.6.3\"Warning message:\n",
      "\"package 'psych' was built under R version 3.6.3\"Warning message:\n",
      "\"package 'ggplot2' was built under R version 3.6.2\"\n",
      "Attaching package: 'ggplot2'\n",
      "\n",
      "The following objects are masked from 'package:psych':\n",
      "\n",
      "    %+%, alpha\n",
      "\n",
      "Warning message:\n",
      "\"package 'GGally' was built under R version 3.6.3\"Registered S3 method overwritten by 'GGally':\n",
      "  method from   \n",
      "  +.gg   ggplot2\n",
      "Warning message:\n",
      "\"package 'lattice' was built under R version 3.6.3\"Warning message:\n",
      "\"package 'leaps' was built under R version 3.6.3\"Warning message:\n",
      "\"package 'packHV' was built under R version 3.6.3\"Loading required package: survival\n",
      "Warning message:\n",
      "\"package 'survival' was built under R version 3.6.3\"Warning message:\n",
      "\"package 'corrplot' was built under R version 3.6.3\"corrplot 0.84 loaded\n",
      "Warning message:\n",
      "\"package 'caTools' was built under R version 3.6.3\"Warning message:\n",
      "\"package 'glmnet' was built under R version 3.6.3\"Loading required package: Matrix\n",
      "Warning message:\n",
      "\"package 'Matrix' was built under R version 3.6.3\"Loaded glmnet 3.0-2\n",
      "\n",
      "\n",
      "Attaching package: 'scales'\n",
      "\n",
      "The following objects are masked from 'package:psych':\n",
      "\n",
      "    alpha, rescale\n",
      "\n",
      "Warning message:\n",
      "\"package 'car' was built under R version 3.6.3\"Loading required package: carData\n",
      "\n",
      "Attaching package: 'car'\n",
      "\n",
      "The following object is masked from 'package:psych':\n",
      "\n",
      "    logit\n",
      "\n",
      "Warning message:\n",
      "\"package 'caret' was built under R version 3.6.3\"\n",
      "Attaching package: 'caret'\n",
      "\n",
      "The following object is masked from 'package:survival':\n",
      "\n",
      "    cluster\n",
      "\n"
     ]
    }
   ],
   "source": [
    "# Importing libraries\n",
    "library(ISLR)\n",
    "library(psych)\n",
    "library(ggplot2)\n",
    "library(reshape2)\n",
    "library(GGally)\n",
    "library(lattice)\n",
    "library(gridExtra)\n",
    "library(leaps)\n",
    "library(packHV)\n",
    "library(corrplot)\n",
    "library(RColorBrewer)\n",
    "library(packHV)\n",
    "library(caTools)\n",
    "library(glmnet)\n",
    "library(scales)\n",
    "library(stats)\n",
    "library(car)\n",
    "library(grid)\n",
    "library(caret)"
   ]
  },
  {
   "cell_type": "markdown",
   "metadata": {},
   "source": [
    "Let us read the csv file into a dataframe."
   ]
  },
  {
   "cell_type": "code",
   "execution_count": 2,
   "metadata": {},
   "outputs": [],
   "source": [
    "df <- read.csv('forestfires.csv',header = TRUE, sep = ',')"
   ]
  },
  {
   "cell_type": "markdown",
   "metadata": {},
   "source": [
    "Using the .names file available to us, we can understand what all the attributes are for.\n",
    "   1. X - x-axis spatial coordinate within the Montesinho park map: 1 to 9\n",
    "   2. Y - y-axis spatial coordinate within the Montesinho park map: 2 to 9\n",
    "   3. month - month of the year: \"jan\" to \"dec\" \n",
    "   4. day - day of the week: \"mon\" to \"sun\"\n",
    "   5. FFMC - FFMC index from the FWI system: 18.7 to 96.20\n",
    "   6. DMC - DMC index from the FWI system: 1.1 to 291.3 \n",
    "   7. DC - DC index from the FWI system: 7.9 to 860.6 \n",
    "   8. ISI - ISI index from the FWI system: 0.0 to 56.10\n",
    "   9. temp - temperature in Celsius degrees: 2.2 to 33.30\n",
    "   10. RH - relative humidity in %: 15.0 to 100\n",
    "   11. wind - wind speed in km/h: 0.40 to 9.40 \n",
    "   12. rain - outside rain in mm/m2 : 0.0 to 6.4 \n",
    "   13. area - the burned area of the forest (in ha): 0.00 to 1090.84 \n",
    "\n",
    "We know that 'area' is our target variable."
   ]
  },
  {
   "cell_type": "markdown",
   "metadata": {},
   "source": [
    "Now let us use some descriptive statistics to find some information about our data."
   ]
  },
  {
   "cell_type": "code",
   "execution_count": 3,
   "metadata": {},
   "outputs": [
    {
     "name": "stdout",
     "output_type": "stream",
     "text": [
      "The bushfire dataset has 517 records, each with 13 attributes. The structure is:\n",
      "\n",
      "'data.frame':\t517 obs. of  13 variables:\n",
      " $ X    : int  7 7 7 8 8 8 8 8 8 7 ...\n",
      " $ Y    : int  5 4 4 6 6 6 6 6 6 5 ...\n",
      " $ month: Factor w/ 12 levels \"apr\",\"aug\",\"dec\",..: 8 11 11 8 8 2 2 2 12 12 ...\n",
      " $ day  : Factor w/ 7 levels \"fri\",\"mon\",\"sat\",..: 1 6 3 1 4 4 2 2 6 3 ...\n",
      " $ FFMC : num  86.2 90.6 90.6 91.7 89.3 92.3 92.3 91.5 91 92.5 ...\n",
      " $ DMC  : num  26.2 35.4 43.7 33.3 51.3 ...\n",
      " $ DC   : num  94.3 669.1 686.9 77.5 102.2 ...\n",
      " $ ISI  : num  5.1 6.7 6.7 9 9.6 14.7 8.5 10.7 7 7.1 ...\n",
      " $ temp : num  8.2 18 14.6 8.3 11.4 22.2 24.1 8 13.1 22.8 ...\n",
      " $ RH   : int  51 33 33 97 99 29 27 86 63 40 ...\n",
      " $ wind : num  6.7 0.9 1.3 4 1.8 5.4 3.1 2.2 5.4 4 ...\n",
      " $ rain : num  0 0 0 0.2 0 0 0 0 0 0 ...\n",
      " $ area : num  0 0 0 0 0 0 0 0 0 0 ...\n",
      "\n",
      "Basic statistics for each attribute are:"
     ]
    },
    {
     "data": {
      "text/plain": [
       "       X               Y           month      day          FFMC      \n",
       " Min.   :1.000   Min.   :2.0   aug    :184   fri:85   Min.   :18.70  \n",
       " 1st Qu.:3.000   1st Qu.:4.0   sep    :172   mon:74   1st Qu.:90.20  \n",
       " Median :4.000   Median :4.0   mar    : 54   sat:84   Median :91.60  \n",
       " Mean   :4.669   Mean   :4.3   jul    : 32   sun:95   Mean   :90.64  \n",
       " 3rd Qu.:7.000   3rd Qu.:5.0   feb    : 20   thu:61   3rd Qu.:92.90  \n",
       " Max.   :9.000   Max.   :9.0   jun    : 17   tue:64   Max.   :96.20  \n",
       "                               (Other): 38   wed:54                  \n",
       "      DMC              DC             ISI              temp      \n",
       " Min.   :  1.1   Min.   :  7.9   Min.   : 0.000   Min.   : 2.20  \n",
       " 1st Qu.: 68.6   1st Qu.:437.7   1st Qu.: 6.500   1st Qu.:15.50  \n",
       " Median :108.3   Median :664.2   Median : 8.400   Median :19.30  \n",
       " Mean   :110.9   Mean   :547.9   Mean   : 9.022   Mean   :18.89  \n",
       " 3rd Qu.:142.4   3rd Qu.:713.9   3rd Qu.:10.800   3rd Qu.:22.80  \n",
       " Max.   :291.3   Max.   :860.6   Max.   :56.100   Max.   :33.30  \n",
       "                                                                 \n",
       "       RH              wind            rain              area        \n",
       " Min.   : 15.00   Min.   :0.400   Min.   :0.00000   Min.   :   0.00  \n",
       " 1st Qu.: 33.00   1st Qu.:2.700   1st Qu.:0.00000   1st Qu.:   0.00  \n",
       " Median : 42.00   Median :4.000   Median :0.00000   Median :   0.52  \n",
       " Mean   : 44.29   Mean   :4.018   Mean   :0.02166   Mean   :  12.85  \n",
       " 3rd Qu.: 53.00   3rd Qu.:4.900   3rd Qu.:0.00000   3rd Qu.:   6.57  \n",
       " Max.   :100.00   Max.   :9.400   Max.   :6.40000   Max.   :1090.84  \n",
       "                                                                     "
      ]
     },
     "metadata": {},
     "output_type": "display_data"
    },
    {
     "name": "stdout",
     "output_type": "stream",
     "text": [
      "The numbers of unique values for each attribute are:"
     ]
    },
    {
     "data": {
      "text/html": [
       "<dl class=dl-horizontal>\n",
       "\t<dt>X</dt>\n",
       "\t\t<dd>9</dd>\n",
       "\t<dt>Y</dt>\n",
       "\t\t<dd>7</dd>\n",
       "\t<dt>month</dt>\n",
       "\t\t<dd>12</dd>\n",
       "\t<dt>day</dt>\n",
       "\t\t<dd>7</dd>\n",
       "\t<dt>FFMC</dt>\n",
       "\t\t<dd>106</dd>\n",
       "\t<dt>DMC</dt>\n",
       "\t\t<dd>215</dd>\n",
       "\t<dt>DC</dt>\n",
       "\t\t<dd>219</dd>\n",
       "\t<dt>ISI</dt>\n",
       "\t\t<dd>119</dd>\n",
       "\t<dt>temp</dt>\n",
       "\t\t<dd>192</dd>\n",
       "\t<dt>RH</dt>\n",
       "\t\t<dd>75</dd>\n",
       "\t<dt>wind</dt>\n",
       "\t\t<dd>21</dd>\n",
       "\t<dt>rain</dt>\n",
       "\t\t<dd>7</dd>\n",
       "\t<dt>area</dt>\n",
       "\t\t<dd>251</dd>\n",
       "</dl>\n"
      ],
      "text/latex": [
       "\\begin{description*}\n",
       "\\item[X] 9\n",
       "\\item[Y] 7\n",
       "\\item[month] 12\n",
       "\\item[day] 7\n",
       "\\item[FFMC] 106\n",
       "\\item[DMC] 215\n",
       "\\item[DC] 219\n",
       "\\item[ISI] 119\n",
       "\\item[temp] 192\n",
       "\\item[RH] 75\n",
       "\\item[wind] 21\n",
       "\\item[rain] 7\n",
       "\\item[area] 251\n",
       "\\end{description*}\n"
      ],
      "text/markdown": [
       "X\n",
       ":   9Y\n",
       ":   7month\n",
       ":   12day\n",
       ":   7FFMC\n",
       ":   106DMC\n",
       ":   215DC\n",
       ":   219ISI\n",
       ":   119temp\n",
       ":   192RH\n",
       ":   75wind\n",
       ":   21rain\n",
       ":   7area\n",
       ":   251\n",
       "\n"
      ],
      "text/plain": [
       "    X     Y month   day  FFMC   DMC    DC   ISI  temp    RH  wind  rain  area \n",
       "    9     7    12     7   106   215   219   119   192    75    21     7   251 "
      ]
     },
     "metadata": {},
     "output_type": "display_data"
    }
   ],
   "source": [
    "# Display the dimensions\n",
    "cat(\"The bushfire dataset has\", dim(df)[1], \"records, each with\", dim(df)[2],\n",
    "    \"attributes. The structure is:\\n\\n\")\n",
    "\n",
    "# Display the structure\n",
    "str(df)\n",
    "\n",
    "cat(\"\\nBasic statistics for each attribute are:\")\n",
    "# Statistical summary \n",
    "summary(df)\n",
    "\n",
    "cat(\"The numbers of unique values for each attribute are:\")\n",
    "apply(df, 2, function(x) length(unique(x)))"
   ]
  },
  {
   "cell_type": "code",
   "execution_count": 4,
   "metadata": {
    "scrolled": false
   },
   "outputs": [
    {
     "data": {
      "text/html": [
       "<table>\n",
       "<thead><tr><th></th><th scope=col>vars</th><th scope=col>n</th><th scope=col>mean</th><th scope=col>sd</th><th scope=col>median</th><th scope=col>trimmed</th><th scope=col>mad</th><th scope=col>min</th><th scope=col>max</th><th scope=col>range</th><th scope=col>skew</th><th scope=col>kurtosis</th><th scope=col>se</th></tr></thead>\n",
       "<tbody>\n",
       "\t<tr><th scope=row>X</th><td> 1     </td><td>517    </td><td>  4.669</td><td>  2.314</td><td>  4.00 </td><td>  4.672</td><td>  2.965</td><td> 1.0   </td><td>   9.00</td><td>   8.00</td><td> 0.036 </td><td> -1.180</td><td> 0.102 </td></tr>\n",
       "\t<tr><th scope=row>Y</th><td> 2     </td><td>517    </td><td>  4.300</td><td>  1.230</td><td>  4.00 </td><td>  4.308</td><td>  1.483</td><td> 2.0   </td><td>   9.00</td><td>   7.00</td><td> 0.415 </td><td>  1.378</td><td> 0.054 </td></tr>\n",
       "\t<tr><th scope=row>month*</th><td> 3     </td><td>517    </td><td>  6.758</td><td>  4.373</td><td>  7.00 </td><td>  6.720</td><td>  7.413</td><td> 1.0   </td><td>  12.00</td><td>  11.00</td><td> 0.084 </td><td> -1.719</td><td> 0.192 </td></tr>\n",
       "\t<tr><th scope=row>day*</th><td> 4     </td><td>517    </td><td>  3.737</td><td>  1.925</td><td>  4.00 </td><td>  3.672</td><td>  2.965</td><td> 1.0   </td><td>   7.00</td><td>   6.00</td><td> 0.157 </td><td> -1.109</td><td> 0.085 </td></tr>\n",
       "\t<tr><th scope=row>FFMC</th><td> 5     </td><td>517    </td><td> 90.645</td><td>  5.520</td><td> 91.60 </td><td> 91.455</td><td>  1.927</td><td>18.7   </td><td>  96.20</td><td>  77.50</td><td>-6.537 </td><td> 66.139</td><td> 0.243 </td></tr>\n",
       "\t<tr><th scope=row>DMC</th><td> 6     </td><td>517    </td><td>110.872</td><td> 64.046</td><td>108.30 </td><td>106.522</td><td> 51.743</td><td> 1.1   </td><td> 291.30</td><td> 290.20</td><td> 0.544 </td><td>  0.179</td><td> 2.817 </td></tr>\n",
       "\t<tr><th scope=row>DC</th><td> 7     </td><td>517    </td><td>547.940</td><td>248.066</td><td>664.20 </td><td>578.692</td><td>118.905</td><td> 7.9   </td><td> 860.60</td><td> 852.70</td><td>-1.094 </td><td> -0.265</td><td>10.910 </td></tr>\n",
       "\t<tr><th scope=row>ISI</th><td> 8     </td><td>517    </td><td>  9.022</td><td>  4.559</td><td>  8.40 </td><td>  8.727</td><td>  3.113</td><td> 0.0   </td><td>  56.10</td><td>  56.10</td><td> 2.522 </td><td> 21.146</td><td> 0.201 </td></tr>\n",
       "\t<tr><th scope=row>temp</th><td> 9     </td><td>517    </td><td> 18.889</td><td>  5.807</td><td> 19.30 </td><td> 19.091</td><td>  5.337</td><td> 2.2   </td><td>  33.30</td><td>  31.10</td><td>-0.329 </td><td>  0.111</td><td> 0.255 </td></tr>\n",
       "\t<tr><th scope=row>RH</th><td>10     </td><td>517    </td><td> 44.288</td><td> 16.317</td><td> 42.00 </td><td> 42.706</td><td> 14.826</td><td>15.0   </td><td> 100.00</td><td>  85.00</td><td> 0.858 </td><td>  0.409</td><td> 0.718 </td></tr>\n",
       "\t<tr><th scope=row>wind</th><td>11     </td><td>517    </td><td>  4.018</td><td>  1.792</td><td>  4.00 </td><td>  3.899</td><td>  1.927</td><td> 0.4   </td><td>   9.40</td><td>   9.00</td><td> 0.568 </td><td>  0.030</td><td> 0.079 </td></tr>\n",
       "\t<tr><th scope=row>rain</th><td>12     </td><td>517    </td><td>  0.022</td><td>  0.296</td><td>  0.00 </td><td>  0.000</td><td>  0.000</td><td> 0.0   </td><td>   6.40</td><td>   6.40</td><td>19.702 </td><td>415.597</td><td> 0.013 </td></tr>\n",
       "\t<tr><th scope=row>area</th><td>13     </td><td>517    </td><td> 12.847</td><td> 63.656</td><td>  0.52 </td><td>  3.182</td><td>  0.771</td><td> 0.0   </td><td>1090.84</td><td>1090.84</td><td>12.772 </td><td>191.502</td><td> 2.800 </td></tr>\n",
       "</tbody>\n",
       "</table>\n"
      ],
      "text/latex": [
       "\\begin{tabular}{r|lllllllllllll}\n",
       "  & vars & n & mean & sd & median & trimmed & mad & min & max & range & skew & kurtosis & se\\\\\n",
       "\\hline\n",
       "\tX &  1      & 517     &   4.669 &   2.314 &   4.00  &   4.672 &   2.965 &  1.0    &    9.00 &    8.00 &  0.036  &  -1.180 &  0.102 \\\\\n",
       "\tY &  2      & 517     &   4.300 &   1.230 &   4.00  &   4.308 &   1.483 &  2.0    &    9.00 &    7.00 &  0.415  &   1.378 &  0.054 \\\\\n",
       "\tmonth* &  3      & 517     &   6.758 &   4.373 &   7.00  &   6.720 &   7.413 &  1.0    &   12.00 &   11.00 &  0.084  &  -1.719 &  0.192 \\\\\n",
       "\tday* &  4      & 517     &   3.737 &   1.925 &   4.00  &   3.672 &   2.965 &  1.0    &    7.00 &    6.00 &  0.157  &  -1.109 &  0.085 \\\\\n",
       "\tFFMC &  5      & 517     &  90.645 &   5.520 &  91.60  &  91.455 &   1.927 & 18.7    &   96.20 &   77.50 & -6.537  &  66.139 &  0.243 \\\\\n",
       "\tDMC &  6      & 517     & 110.872 &  64.046 & 108.30  & 106.522 &  51.743 &  1.1    &  291.30 &  290.20 &  0.544  &   0.179 &  2.817 \\\\\n",
       "\tDC &  7      & 517     & 547.940 & 248.066 & 664.20  & 578.692 & 118.905 &  7.9    &  860.60 &  852.70 & -1.094  &  -0.265 & 10.910 \\\\\n",
       "\tISI &  8      & 517     &   9.022 &   4.559 &   8.40  &   8.727 &   3.113 &  0.0    &   56.10 &   56.10 &  2.522  &  21.146 &  0.201 \\\\\n",
       "\ttemp &  9      & 517     &  18.889 &   5.807 &  19.30  &  19.091 &   5.337 &  2.2    &   33.30 &   31.10 & -0.329  &   0.111 &  0.255 \\\\\n",
       "\tRH & 10      & 517     &  44.288 &  16.317 &  42.00  &  42.706 &  14.826 & 15.0    &  100.00 &   85.00 &  0.858  &   0.409 &  0.718 \\\\\n",
       "\twind & 11      & 517     &   4.018 &   1.792 &   4.00  &   3.899 &   1.927 &  0.4    &    9.40 &    9.00 &  0.568  &   0.030 &  0.079 \\\\\n",
       "\train & 12      & 517     &   0.022 &   0.296 &   0.00  &   0.000 &   0.000 &  0.0    &    6.40 &    6.40 & 19.702  & 415.597 &  0.013 \\\\\n",
       "\tarea & 13      & 517     &  12.847 &  63.656 &   0.52  &   3.182 &   0.771 &  0.0    & 1090.84 & 1090.84 & 12.772  & 191.502 &  2.800 \\\\\n",
       "\\end{tabular}\n"
      ],
      "text/markdown": [
       "\n",
       "| <!--/--> | vars | n | mean | sd | median | trimmed | mad | min | max | range | skew | kurtosis | se |\n",
       "|---|---|---|---|---|---|---|---|---|---|---|---|---|---|\n",
       "| X |  1      | 517     |   4.669 |   2.314 |   4.00  |   4.672 |   2.965 |  1.0    |    9.00 |    8.00 |  0.036  |  -1.180 |  0.102  |\n",
       "| Y |  2      | 517     |   4.300 |   1.230 |   4.00  |   4.308 |   1.483 |  2.0    |    9.00 |    7.00 |  0.415  |   1.378 |  0.054  |\n",
       "| month* |  3      | 517     |   6.758 |   4.373 |   7.00  |   6.720 |   7.413 |  1.0    |   12.00 |   11.00 |  0.084  |  -1.719 |  0.192  |\n",
       "| day* |  4      | 517     |   3.737 |   1.925 |   4.00  |   3.672 |   2.965 |  1.0    |    7.00 |    6.00 |  0.157  |  -1.109 |  0.085  |\n",
       "| FFMC |  5      | 517     |  90.645 |   5.520 |  91.60  |  91.455 |   1.927 | 18.7    |   96.20 |   77.50 | -6.537  |  66.139 |  0.243  |\n",
       "| DMC |  6      | 517     | 110.872 |  64.046 | 108.30  | 106.522 |  51.743 |  1.1    |  291.30 |  290.20 |  0.544  |   0.179 |  2.817  |\n",
       "| DC |  7      | 517     | 547.940 | 248.066 | 664.20  | 578.692 | 118.905 |  7.9    |  860.60 |  852.70 | -1.094  |  -0.265 | 10.910  |\n",
       "| ISI |  8      | 517     |   9.022 |   4.559 |   8.40  |   8.727 |   3.113 |  0.0    |   56.10 |   56.10 |  2.522  |  21.146 |  0.201  |\n",
       "| temp |  9      | 517     |  18.889 |   5.807 |  19.30  |  19.091 |   5.337 |  2.2    |   33.30 |   31.10 | -0.329  |   0.111 |  0.255  |\n",
       "| RH | 10      | 517     |  44.288 |  16.317 |  42.00  |  42.706 |  14.826 | 15.0    |  100.00 |   85.00 |  0.858  |   0.409 |  0.718  |\n",
       "| wind | 11      | 517     |   4.018 |   1.792 |   4.00  |   3.899 |   1.927 |  0.4    |    9.40 |    9.00 |  0.568  |   0.030 |  0.079  |\n",
       "| rain | 12      | 517     |   0.022 |   0.296 |   0.00  |   0.000 |   0.000 |  0.0    |    6.40 |    6.40 | 19.702  | 415.597 |  0.013  |\n",
       "| area | 13      | 517     |  12.847 |  63.656 |   0.52  |   3.182 |   0.771 |  0.0    | 1090.84 | 1090.84 | 12.772  | 191.502 |  2.800  |\n",
       "\n"
      ],
      "text/plain": [
       "       vars n   mean    sd      median trimmed mad     min  max     range  \n",
       "X       1   517   4.669   2.314   4.00   4.672   2.965  1.0    9.00    8.00\n",
       "Y       2   517   4.300   1.230   4.00   4.308   1.483  2.0    9.00    7.00\n",
       "month*  3   517   6.758   4.373   7.00   6.720   7.413  1.0   12.00   11.00\n",
       "day*    4   517   3.737   1.925   4.00   3.672   2.965  1.0    7.00    6.00\n",
       "FFMC    5   517  90.645   5.520  91.60  91.455   1.927 18.7   96.20   77.50\n",
       "DMC     6   517 110.872  64.046 108.30 106.522  51.743  1.1  291.30  290.20\n",
       "DC      7   517 547.940 248.066 664.20 578.692 118.905  7.9  860.60  852.70\n",
       "ISI     8   517   9.022   4.559   8.40   8.727   3.113  0.0   56.10   56.10\n",
       "temp    9   517  18.889   5.807  19.30  19.091   5.337  2.2   33.30   31.10\n",
       "RH     10   517  44.288  16.317  42.00  42.706  14.826 15.0  100.00   85.00\n",
       "wind   11   517   4.018   1.792   4.00   3.899   1.927  0.4    9.40    9.00\n",
       "rain   12   517   0.022   0.296   0.00   0.000   0.000  0.0    6.40    6.40\n",
       "area   13   517  12.847  63.656   0.52   3.182   0.771  0.0 1090.84 1090.84\n",
       "       skew   kurtosis se    \n",
       "X       0.036  -1.180   0.102\n",
       "Y       0.415   1.378   0.054\n",
       "month*  0.084  -1.719   0.192\n",
       "day*    0.157  -1.109   0.085\n",
       "FFMC   -6.537  66.139   0.243\n",
       "DMC     0.544   0.179   2.817\n",
       "DC     -1.094  -0.265  10.910\n",
       "ISI     2.522  21.146   0.201\n",
       "temp   -0.329   0.111   0.255\n",
       "RH      0.858   0.409   0.718\n",
       "wind    0.568   0.030   0.079\n",
       "rain   19.702 415.597   0.013\n",
       "area   12.772 191.502   2.800"
      ]
     },
     "metadata": {},
     "output_type": "display_data"
    }
   ],
   "source": [
    "round(describe(df),3)"
   ]
  },
  {
   "cell_type": "markdown",
   "metadata": {},
   "source": [
    "Some observations for our data:\n",
    "- Since n = 517 for all the columns, there aren't any missing values in our data.\n",
    "- The variable 'area' has a huge range(1090.84). It is also highly skewed(12.722).\n",
    "- The variable 'rain' is also highly skewed(19.7020).\n",
    "- The mean and median of most variables are close to each other. The exception is 'area' variable.\n",
    "- For variables 'FFMC', 'ISI', 'rain' and 'area', the kurtosis is very high which shows that they have large value outliers present.\n",
    "\n"
   ]
  },
  {
   "cell_type": "markdown",
   "metadata": {},
   "source": [
    "### BOXPLOTS AND HISTOGRAMS"
   ]
  },
  {
   "cell_type": "markdown",
   "metadata": {},
   "source": [
    "As all our variables aren't numeric, we'll create a new dataframe with just numeric/integer datatypes to create our boxplots and histograms. Boxplots help us identify the outliers(if any) and histograms highlight the trend and distribution of the variables."
   ]
  },
  {
   "cell_type": "code",
   "execution_count": 5,
   "metadata": {},
   "outputs": [],
   "source": [
    "numeric_df<-df[,-c(1:4)]"
   ]
  },
  {
   "cell_type": "code",
   "execution_count": 6,
   "metadata": {},
   "outputs": [
    {
     "data": {
      "image/png": "[encoded data removed]",
      "text/plain": [
       "Plot with title \"RH\""
      ]
     },
     "metadata": {},
     "output_type": "display_data"
    },
    {
     "data": {
      "image/png": "[encoded data removed]",
      "text/plain": [
       "Plot with title \"area\""
      ]
     },
     "metadata": {},
     "output_type": "display_data"
    }
   ],
   "source": [
    "# box plot and histogram\n",
    "#install.packages(\"packHV\")\n",
    "\n",
    "par(mfrow=c(3,2))\n",
    "column_names=colnames(numeric_df)\n",
    "for (i in colnames(numeric_df)){\n",
    "    hist_boxplot(numeric_df\n",
    "                 [,i],col=\"blue\",freq=FALSE, density=TRUE\n",
    "                 , xlab = i,main = names(df[i]))\n",
    "}"
   ]
  },
  {
   "cell_type": "markdown",
   "metadata": {},
   "source": [
    "Our observations from these histograms and boxplots are:\n",
    "\n",
    "- The variables 'temp' and 'wind' have close to a normal distribution.\n",
    "- Variables 'area' and 'rain' have huge outliers.\n"
   ]
  },
  {
   "cell_type": "code",
   "execution_count": 7,
   "metadata": {},
   "outputs": [
    {
     "data": {
      "image/png": "[encoded data removed]",
      "text/plain": [
       "Plot with title \"Distribution of burned area\""
      ]
     },
     "metadata": {},
     "output_type": "display_data"
    }
   ],
   "source": [
    "hist(df$area, main =\"Distribution of burned area\", xlab = \"Burned Area\")"
   ]
  },
  {
   "cell_type": "markdown",
   "metadata": {},
   "source": [
    "The histogram for our target variable shows that the distribution is heavily skewed."
   ]
  },
  {
   "cell_type": "markdown",
   "metadata": {},
   "source": [
    "### Normalization of 'area' variable\n",
    "\n",
    "As the area variable is heavily skewed, we shall normalize it to find a better match."
   ]
  },
  {
   "cell_type": "code",
   "execution_count": 8,
   "metadata": {},
   "outputs": [
    {
     "name": "stderr",
     "output_type": "stream",
     "text": [
      "Warning message:\n",
      "\"Transformation introduced infinite values in continuous x-axis\"Warning message:\n",
      "\"Removed 247 rows containing non-finite values (stat_bin).\""
     ]
    },
    {
     "data": {
      "image/png": "[encoded data removed]",
      "text/plain": [
       "plot without title"
      ]
     },
     "metadata": {},
     "output_type": "display_data"
    }
   ],
   "source": [
    "# Set some colours using Colorbrewer\n",
    "gg.colour <- brewer.pal(12,\"Paired\")[12]\n",
    "gg.fill <- brewer.pal(12,\"Paired\")[11]\n",
    "\n",
    "# Re-plot some of the charts using log scales to counteract the skew\n",
    "p1 <- ggplot(aes(x=area), data=df) +\n",
    "      geom_histogram(bins=20, colour=gg.colour, fill=gg.fill) +\n",
    "      scale_x_log10(labels = comma)\n",
    "p1"
   ]
  },
  {
   "cell_type": "markdown",
   "metadata": {},
   "source": [
    "The above graph shows the new variable 'log_area' as a normal distribution. This will help us build better models."
   ]
  },
  {
   "cell_type": "markdown",
   "metadata": {},
   "source": [
    "\n",
    "### COORELATION"
   ]
  },
  {
   "cell_type": "code",
   "execution_count": 9,
   "metadata": {},
   "outputs": [
    {
     "data": {
      "text/html": [
       "<table>\n",
       "<thead><tr><th></th><th scope=col>FFMC</th><th scope=col>DMC</th><th scope=col>DC</th><th scope=col>ISI</th><th scope=col>temp</th><th scope=col>RH</th><th scope=col>wind</th><th scope=col>rain</th><th scope=col>area</th></tr></thead>\n",
       "<tbody>\n",
       "\t<tr><th scope=row>FFMC</th><td> 1.00000000 </td><td> 0.38261880 </td><td> 0.33051180 </td><td> 0.531804931</td><td> 0.43153226 </td><td>-0.30099542 </td><td>-0.02848481 </td><td> 0.056701533</td><td> 0.040122004</td></tr>\n",
       "\t<tr><th scope=row>DMC</th><td> 0.38261880 </td><td> 1.00000000 </td><td> 0.68219161 </td><td> 0.305127835</td><td> 0.46959384 </td><td> 0.07379494 </td><td>-0.10534225 </td><td> 0.074789982</td><td> 0.072994296</td></tr>\n",
       "\t<tr><th scope=row>DC</th><td> 0.33051180 </td><td> 0.68219161 </td><td> 1.00000000 </td><td> 0.229154169</td><td> 0.49620805 </td><td>-0.03919165 </td><td>-0.20346569 </td><td> 0.035860862</td><td> 0.049383225</td></tr>\n",
       "\t<tr><th scope=row>ISI</th><td> 0.53180493 </td><td> 0.30512783 </td><td> 0.22915417 </td><td> 1.000000000</td><td> 0.39428710 </td><td>-0.13251718 </td><td> 0.10682589 </td><td> 0.067668190</td><td> 0.008257688</td></tr>\n",
       "\t<tr><th scope=row>temp</th><td> 0.43153226 </td><td> 0.46959384 </td><td> 0.49620805 </td><td> 0.394287104</td><td> 1.00000000 </td><td>-0.52739034 </td><td>-0.22711622 </td><td> 0.069490547</td><td> 0.097844107</td></tr>\n",
       "\t<tr><th scope=row>RH</th><td>-0.30099542 </td><td> 0.07379494 </td><td>-0.03919165 </td><td>-0.132517177</td><td>-0.52739034 </td><td> 1.00000000 </td><td> 0.06941007 </td><td> 0.099751223</td><td>-0.075518563</td></tr>\n",
       "\t<tr><th scope=row>wind</th><td>-0.02848481 </td><td>-0.10534225 </td><td>-0.20346569 </td><td> 0.106825888</td><td>-0.22711622 </td><td> 0.06941007 </td><td> 1.00000000 </td><td> 0.061118880</td><td> 0.012317277</td></tr>\n",
       "\t<tr><th scope=row>rain</th><td> 0.05670153 </td><td> 0.07478998 </td><td> 0.03586086 </td><td> 0.067668190</td><td> 0.06949055 </td><td> 0.09975122 </td><td> 0.06111888 </td><td> 1.000000000</td><td>-0.007365729</td></tr>\n",
       "\t<tr><th scope=row>area</th><td> 0.04012200 </td><td> 0.07299430 </td><td> 0.04938323 </td><td> 0.008257688</td><td> 0.09784411 </td><td>-0.07551856 </td><td> 0.01231728 </td><td>-0.007365729</td><td> 1.000000000</td></tr>\n",
       "</tbody>\n",
       "</table>\n"
      ],
      "text/latex": [
       "\\begin{tabular}{r|lllllllll}\n",
       "  & FFMC & DMC & DC & ISI & temp & RH & wind & rain & area\\\\\n",
       "\\hline\n",
       "\tFFMC &  1.00000000  &  0.38261880  &  0.33051180  &  0.531804931 &  0.43153226  & -0.30099542  & -0.02848481  &  0.056701533 &  0.040122004\\\\\n",
       "\tDMC &  0.38261880  &  1.00000000  &  0.68219161  &  0.305127835 &  0.46959384  &  0.07379494  & -0.10534225  &  0.074789982 &  0.072994296\\\\\n",
       "\tDC &  0.33051180  &  0.68219161  &  1.00000000  &  0.229154169 &  0.49620805  & -0.03919165  & -0.20346569  &  0.035860862 &  0.049383225\\\\\n",
       "\tISI &  0.53180493  &  0.30512783  &  0.22915417  &  1.000000000 &  0.39428710  & -0.13251718  &  0.10682589  &  0.067668190 &  0.008257688\\\\\n",
       "\ttemp &  0.43153226  &  0.46959384  &  0.49620805  &  0.394287104 &  1.00000000  & -0.52739034  & -0.22711622  &  0.069490547 &  0.097844107\\\\\n",
       "\tRH & -0.30099542  &  0.07379494  & -0.03919165  & -0.132517177 & -0.52739034  &  1.00000000  &  0.06941007  &  0.099751223 & -0.075518563\\\\\n",
       "\twind & -0.02848481  & -0.10534225  & -0.20346569  &  0.106825888 & -0.22711622  &  0.06941007  &  1.00000000  &  0.061118880 &  0.012317277\\\\\n",
       "\train &  0.05670153  &  0.07478998  &  0.03586086  &  0.067668190 &  0.06949055  &  0.09975122  &  0.06111888  &  1.000000000 & -0.007365729\\\\\n",
       "\tarea &  0.04012200  &  0.07299430  &  0.04938323  &  0.008257688 &  0.09784411  & -0.07551856  &  0.01231728  & -0.007365729 &  1.000000000\\\\\n",
       "\\end{tabular}\n"
      ],
      "text/markdown": [
       "\n",
       "| <!--/--> | FFMC | DMC | DC | ISI | temp | RH | wind | rain | area |\n",
       "|---|---|---|---|---|---|---|---|---|---|\n",
       "| FFMC |  1.00000000  |  0.38261880  |  0.33051180  |  0.531804931 |  0.43153226  | -0.30099542  | -0.02848481  |  0.056701533 |  0.040122004 |\n",
       "| DMC |  0.38261880  |  1.00000000  |  0.68219161  |  0.305127835 |  0.46959384  |  0.07379494  | -0.10534225  |  0.074789982 |  0.072994296 |\n",
       "| DC |  0.33051180  |  0.68219161  |  1.00000000  |  0.229154169 |  0.49620805  | -0.03919165  | -0.20346569  |  0.035860862 |  0.049383225 |\n",
       "| ISI |  0.53180493  |  0.30512783  |  0.22915417  |  1.000000000 |  0.39428710  | -0.13251718  |  0.10682589  |  0.067668190 |  0.008257688 |\n",
       "| temp |  0.43153226  |  0.46959384  |  0.49620805  |  0.394287104 |  1.00000000  | -0.52739034  | -0.22711622  |  0.069490547 |  0.097844107 |\n",
       "| RH | -0.30099542  |  0.07379494  | -0.03919165  | -0.132517177 | -0.52739034  |  1.00000000  |  0.06941007  |  0.099751223 | -0.075518563 |\n",
       "| wind | -0.02848481  | -0.10534225  | -0.20346569  |  0.106825888 | -0.22711622  |  0.06941007  |  1.00000000  |  0.061118880 |  0.012317277 |\n",
       "| rain |  0.05670153  |  0.07478998  |  0.03586086  |  0.067668190 |  0.06949055  |  0.09975122  |  0.06111888  |  1.000000000 | -0.007365729 |\n",
       "| area |  0.04012200  |  0.07299430  |  0.04938323  |  0.008257688 |  0.09784411  | -0.07551856  |  0.01231728  | -0.007365729 |  1.000000000 |\n",
       "\n"
      ],
      "text/plain": [
       "     FFMC        DMC         DC          ISI          temp        RH         \n",
       "FFMC  1.00000000  0.38261880  0.33051180  0.531804931  0.43153226 -0.30099542\n",
       "DMC   0.38261880  1.00000000  0.68219161  0.305127835  0.46959384  0.07379494\n",
       "DC    0.33051180  0.68219161  1.00000000  0.229154169  0.49620805 -0.03919165\n",
       "ISI   0.53180493  0.30512783  0.22915417  1.000000000  0.39428710 -0.13251718\n",
       "temp  0.43153226  0.46959384  0.49620805  0.394287104  1.00000000 -0.52739034\n",
       "RH   -0.30099542  0.07379494 -0.03919165 -0.132517177 -0.52739034  1.00000000\n",
       "wind -0.02848481 -0.10534225 -0.20346569  0.106825888 -0.22711622  0.06941007\n",
       "rain  0.05670153  0.07478998  0.03586086  0.067668190  0.06949055  0.09975122\n",
       "area  0.04012200  0.07299430  0.04938323  0.008257688  0.09784411 -0.07551856\n",
       "     wind        rain         area        \n",
       "FFMC -0.02848481  0.056701533  0.040122004\n",
       "DMC  -0.10534225  0.074789982  0.072994296\n",
       "DC   -0.20346569  0.035860862  0.049383225\n",
       "ISI   0.10682589  0.067668190  0.008257688\n",
       "temp -0.22711622  0.069490547  0.097844107\n",
       "RH    0.06941007  0.099751223 -0.075518563\n",
       "wind  1.00000000  0.061118880  0.012317277\n",
       "rain  0.06111888  1.000000000 -0.007365729\n",
       "area  0.01231728 -0.007365729  1.000000000"
      ]
     },
     "metadata": {},
     "output_type": "display_data"
    }
   ],
   "source": [
    "cor(numeric_df[c(1:9)])"
   ]
  },
  {
   "cell_type": "code",
   "execution_count": 10,
   "metadata": {
    "scrolled": false
   },
   "outputs": [
    {
     "data": {
      "image/png": "[encoded data removed]",
      "text/plain": [
       "plot without title"
      ]
     },
     "metadata": {},
     "output_type": "display_data"
    }
   ],
   "source": [
    "#Define you own panel\n",
    "myPanel <- function(x, y, z, ...) {\n",
    "    panel.levelplot(x,y,z,...)\n",
    "    panel.text(x, y, round(z, 2))\n",
    "}\n",
    "\n",
    "#Plot the correlation matrix.\n",
    "levelplot(cor(numeric_df), main = \"Correlation\", xlab = NULL, ylab = NULL, \n",
    "          scales = list(x = list(rot = 90)), panel = myPanel)"
   ]
  },
  {
   "cell_type": "code",
   "execution_count": 11,
   "metadata": {},
   "outputs": [
    {
     "data": {
      "image/png": "[encoded data removed]",
      "text/plain": [
       "Plot with title \"\""
      ]
     },
     "metadata": {},
     "output_type": "display_data"
    }
   ],
   "source": [
    "\n",
    "M <- cor(numeric_df)\n",
    "corrplot.mixed(M,lower.col = \"black\",upper.col =  brewer.pal(n = 6, name = \"RdBu\"), number.cex = .7)\n",
    "#corrplot(M, type = \"lower\",  col = brewer.pal(n = 8, name = \"PuOr\"))\n",
    "#corrplot(M, order = \"FPC\",type = \"lower\")\n"
   ]
  },
  {
   "cell_type": "markdown",
   "metadata": {},
   "source": [
    "Our obserations from Correlation are:\n",
    "\n",
    "- The variable 'area' has a positive correlation with 'temp' and negative correlation with 'RH'.\n",
    "- The variable 'temp' has positive correlation with 'FFMC', 'DMC', 'DC' and 'ISI'. It has negative correlation with 'RH' and 'wind'.\n",
    "- The variable 'rain' has positive correlation with all variables but important to note is the one with 'RH'.\n",
    "- The variable 'wind' has negative correlation with 'temp' and 'DC'.\n",
    "\n",
    "We can see that the variables 'FFMC', 'DMC', 'DC' and 'ISI' are all closely correlated to 'temp'."
   ]
  },
  {
   "cell_type": "markdown",
   "metadata": {},
   "source": [
    "For our factor variables(month and day)"
   ]
  },
  {
   "cell_type": "code",
   "execution_count": 12,
   "metadata": {},
   "outputs": [
    {
     "data": {
      "image/png": "[encoded data removed]",
      "text/plain": [
       "Plot with title \"Temperature for various months\""
      ]
     },
     "metadata": {},
     "output_type": "display_data"
    }
   ],
   "source": [
    "plot(df$month, df$temp, xlab = \"Month\", ylab = \"Temperature\",main = \"Temperature for various months\")\n",
    "\n",
    "#ggplot(df, aes(df$month, df$temp)) + geom_line() \n"
   ]
  },
  {
   "cell_type": "code",
   "execution_count": 13,
   "metadata": {},
   "outputs": [
    {
     "data": {
      "image/png": "[encoded data removed]",
      "text/plain": [
       "Plot with title \"Temperature for various months\""
      ]
     },
     "metadata": {},
     "output_type": "display_data"
    }
   ],
   "source": [
    "plot(df$month, df$area, xlab = \"Month\", ylab = \"Temperature\",main = \"Temperature for various months\")\n",
    "\n",
    "#ggplot(df, aes(df$month, df$temp)) + geom_line() \n"
   ]
  },
  {
   "cell_type": "markdown",
   "metadata": {},
   "source": [
    "We can see that the 'months' determine how temp is affected.And we know that 'temp' affects the 'area' variable."
   ]
  },
  {
   "cell_type": "markdown",
   "metadata": {},
   "source": [
    "## Model development"
   ]
  },
  {
   "cell_type": "markdown",
   "metadata": {},
   "source": [
    "## Feature selection"
   ]
  },
  {
   "cell_type": "markdown",
   "metadata": {},
   "source": [
    "As our features have so many varied values we must perform feature scaling to help us find better solutions. We perform min max normalisation. We will also perform dummy coding for our factor variables."
   ]
  },
  {
   "cell_type": "code",
   "execution_count": 14,
   "metadata": {},
   "outputs": [],
   "source": [
    "normalize <- function(x) {\n",
    "    return ((x - min(x)) / (max(x) - min(x)))\n",
    "  }"
   ]
  },
  {
   "cell_type": "code",
   "execution_count": 15,
   "metadata": {},
   "outputs": [],
   "source": [
    "df1 <- dummyVars(~month+day, data=df)\n",
    "dummy_df <- data.frame(predict(df1, newdata = df))"
   ]
  },
  {
   "cell_type": "code",
   "execution_count": 16,
   "metadata": {},
   "outputs": [
    {
     "data": {
      "text/plain": [
       "       X               Y            FFMC             DMC        \n",
       " Min.   :1.000   Min.   :2.0   Min.   :0.0000   Min.   :0.0000  \n",
       " 1st Qu.:3.000   1st Qu.:4.0   1st Qu.:0.9226   1st Qu.:0.2326  \n",
       " Median :4.000   Median :4.0   Median :0.9406   Median :0.3694  \n",
       " Mean   :4.669   Mean   :4.3   Mean   :0.9283   Mean   :0.3783  \n",
       " 3rd Qu.:7.000   3rd Qu.:5.0   3rd Qu.:0.9574   3rd Qu.:0.4869  \n",
       " Max.   :9.000   Max.   :9.0   Max.   :1.0000   Max.   :1.0000  \n",
       "       DC              ISI              temp              RH        \n",
       " Min.   :0.0000   Min.   :0.0000   Min.   :0.0000   Min.   :0.0000  \n",
       " 1st Qu.:0.5040   1st Qu.:0.1159   1st Qu.:0.4277   1st Qu.:0.2118  \n",
       " Median :0.7697   Median :0.1497   Median :0.5498   Median :0.3176  \n",
       " Mean   :0.6333   Mean   :0.1608   Mean   :0.5366   Mean   :0.3446  \n",
       " 3rd Qu.:0.8280   3rd Qu.:0.1925   3rd Qu.:0.6624   3rd Qu.:0.4471  \n",
       " Max.   :1.0000   Max.   :1.0000   Max.   :1.0000   Max.   :1.0000  \n",
       "      wind             rain               area             month.apr      \n",
       " Min.   :0.0000   Min.   :0.000000   Min.   :0.0000000   Min.   :0.00000  \n",
       " 1st Qu.:0.2556   1st Qu.:0.000000   1st Qu.:0.0000000   1st Qu.:0.00000  \n",
       " Median :0.4000   Median :0.000000   Median :0.0004767   Median :0.00000  \n",
       " Mean   :0.4020   Mean   :0.003385   Mean   :0.0117774   Mean   :0.01741  \n",
       " 3rd Qu.:0.5000   3rd Qu.:0.000000   3rd Qu.:0.0060229   3rd Qu.:0.00000  \n",
       " Max.   :1.0000   Max.   :1.000000   Max.   :1.0000000   Max.   :1.00000  \n",
       "   month.aug        month.dec         month.feb         month.jan       \n",
       " Min.   :0.0000   Min.   :0.00000   Min.   :0.00000   Min.   :0.000000  \n",
       " 1st Qu.:0.0000   1st Qu.:0.00000   1st Qu.:0.00000   1st Qu.:0.000000  \n",
       " Median :0.0000   Median :0.00000   Median :0.00000   Median :0.000000  \n",
       " Mean   :0.3559   Mean   :0.01741   Mean   :0.03868   Mean   :0.003868  \n",
       " 3rd Qu.:1.0000   3rd Qu.:0.00000   3rd Qu.:0.00000   3rd Qu.:0.000000  \n",
       " Max.   :1.0000   Max.   :1.00000   Max.   :1.00000   Max.   :1.000000  \n",
       "   month.jul        month.jun         month.mar        month.may       \n",
       " Min.   :0.0000   Min.   :0.00000   Min.   :0.0000   Min.   :0.000000  \n",
       " 1st Qu.:0.0000   1st Qu.:0.00000   1st Qu.:0.0000   1st Qu.:0.000000  \n",
       " Median :0.0000   Median :0.00000   Median :0.0000   Median :0.000000  \n",
       " Mean   :0.0619   Mean   :0.03288   Mean   :0.1044   Mean   :0.003868  \n",
       " 3rd Qu.:0.0000   3rd Qu.:0.00000   3rd Qu.:0.0000   3rd Qu.:0.000000  \n",
       " Max.   :1.0000   Max.   :1.00000   Max.   :1.0000   Max.   :1.000000  \n",
       "   month.nov          month.oct         month.sep         day.fri      \n",
       " Min.   :0.000000   Min.   :0.00000   Min.   :0.0000   Min.   :0.0000  \n",
       " 1st Qu.:0.000000   1st Qu.:0.00000   1st Qu.:0.0000   1st Qu.:0.0000  \n",
       " Median :0.000000   Median :0.00000   Median :0.0000   Median :0.0000  \n",
       " Mean   :0.001934   Mean   :0.02901   Mean   :0.3327   Mean   :0.1644  \n",
       " 3rd Qu.:0.000000   3rd Qu.:0.00000   3rd Qu.:1.0000   3rd Qu.:0.0000  \n",
       " Max.   :1.000000   Max.   :1.00000   Max.   :1.0000   Max.   :1.0000  \n",
       "    day.mon          day.sat          day.sun          day.thu     \n",
       " Min.   :0.0000   Min.   :0.0000   Min.   :0.0000   Min.   :0.000  \n",
       " 1st Qu.:0.0000   1st Qu.:0.0000   1st Qu.:0.0000   1st Qu.:0.000  \n",
       " Median :0.0000   Median :0.0000   Median :0.0000   Median :0.000  \n",
       " Mean   :0.1431   Mean   :0.1625   Mean   :0.1838   Mean   :0.118  \n",
       " 3rd Qu.:0.0000   3rd Qu.:0.0000   3rd Qu.:0.0000   3rd Qu.:0.000  \n",
       " Max.   :1.0000   Max.   :1.0000   Max.   :1.0000   Max.   :1.000  \n",
       "    day.tue          day.wed      \n",
       " Min.   :0.0000   Min.   :0.0000  \n",
       " 1st Qu.:0.0000   1st Qu.:0.0000  \n",
       " Median :0.0000   Median :0.0000  \n",
       " Mean   :0.1238   Mean   :0.1044  \n",
       " 3rd Qu.:0.0000   3rd Qu.:0.0000  \n",
       " Max.   :1.0000   Max.   :1.0000  "
      ]
     },
     "metadata": {},
     "output_type": "display_data"
    }
   ],
   "source": [
    "dfNorm <- as.data.frame(lapply(df[5:13], normalize))\n",
    "df <- df[, -c(5:13)]\n",
    "df <-cbind(df, dfNorm)\n",
    "df<-cbind(df,dummy_df)\n",
    "df <- df[,-c(3:4)] \n",
    "summary(df)"
   ]
  },
  {
   "cell_type": "markdown",
   "metadata": {},
   "source": [
    "Let us divide our dataset into training and test data."
   ]
  },
  {
   "cell_type": "code",
   "execution_count": 17,
   "metadata": {},
   "outputs": [],
   "source": [
    "set.seed(312)\n",
    "split = sample.split(df$area, SplitRatio = 0.8)\n",
    "training = subset(df, split == TRUE)\n",
    "test = subset(df, split == FALSE)"
   ]
  },
  {
   "cell_type": "code",
   "execution_count": 18,
   "metadata": {
    "scrolled": true
   },
   "outputs": [
    {
     "data": {
      "text/html": [
       "<ol class=list-inline>\n",
       "\t<li>467</li>\n",
       "\t<li>30</li>\n",
       "</ol>\n"
      ],
      "text/latex": [
       "\\begin{enumerate*}\n",
       "\\item 467\n",
       "\\item 30\n",
       "\\end{enumerate*}\n"
      ],
      "text/markdown": [
       "1. 467\n",
       "2. 30\n",
       "\n",
       "\n"
      ],
      "text/plain": [
       "[1] 467  30"
      ]
     },
     "metadata": {},
     "output_type": "display_data"
    }
   ],
   "source": [
    "dim(training)"
   ]
  },
  {
   "cell_type": "code",
   "execution_count": 19,
   "metadata": {},
   "outputs": [
    {
     "data": {
      "text/html": [
       "<ol class=list-inline>\n",
       "\t<li>50</li>\n",
       "\t<li>30</li>\n",
       "</ol>\n"
      ],
      "text/latex": [
       "\\begin{enumerate*}\n",
       "\\item 50\n",
       "\\item 30\n",
       "\\end{enumerate*}\n"
      ],
      "text/markdown": [
       "1. 50\n",
       "2. 30\n",
       "\n",
       "\n"
      ],
      "text/plain": [
       "[1] 50 30"
      ]
     },
     "metadata": {},
     "output_type": "display_data"
    }
   ],
   "source": [
    "dim(test)"
   ]
  },
  {
   "cell_type": "markdown",
   "metadata": {},
   "source": [
    "### Lasso Shrinkage method"
   ]
  },
  {
   "cell_type": "markdown",
   "metadata": {},
   "source": [
    "Lasso regression performs L1 regularization, which adds a penalty equal to the absolute value of the magnitude of \n",
    "coefficients. This type of regularization can result in sparse models with few coefficients;\n",
    "Some coefficients can become zero and eliminated from the model."
   ]
  },
  {
   "cell_type": "code",
   "execution_count": 20,
   "metadata": {},
   "outputs": [],
   "source": [
    "x=model.matrix(area~.-1,data =df) #Matrix of independent variables\n",
    "y=df$area #Response vector for the dependent variable"
   ]
  },
  {
   "cell_type": "code",
   "execution_count": 21,
   "metadata": {
    "scrolled": false
   },
   "outputs": [
    {
     "data": {
      "image/png": "[encoded data removed]",
      "text/plain": [
       "plot without title"
      ]
     },
     "metadata": {},
     "output_type": "display_data"
    }
   ],
   "source": [
    "fit.lasso=glmnet(x,y)\n",
    "plot(fit.lasso,xvar='lambda',label=TRUE)\n"
   ]
  },
  {
   "cell_type": "markdown",
   "metadata": {},
   "source": [
    "As we can see above, the co-effecients start at zero and then move towards a non-zero value. This is how lasso does\n",
    "feature selection."
   ]
  },
  {
   "cell_type": "markdown",
   "metadata": {},
   "source": [
    "Now, we will perform cross validation using the cv.glmnet function."
   ]
  },
  {
   "cell_type": "code",
   "execution_count": 22,
   "metadata": {},
   "outputs": [],
   "source": [
    "cv.lasso=cv.glmnet(x,y)"
   ]
  },
  {
   "cell_type": "code",
   "execution_count": 23,
   "metadata": {
    "scrolled": false
   },
   "outputs": [
    {
     "data": {
      "image/png": "[encoded data removed]",
      "text/plain": [
       "plot without title"
      ]
     },
     "metadata": {},
     "output_type": "display_data"
    }
   ],
   "source": [
    "plot(cv.lasso)"
   ]
  },
  {
   "cell_type": "markdown",
   "metadata": {},
   "source": [
    "The above figure is not helping us find any variable which will help us make a better model. It is showing us a value of 1 which will be too little."
   ]
  },
  {
   "cell_type": "code",
   "execution_count": 24,
   "metadata": {},
   "outputs": [
    {
     "data": {
      "text/plain": [
       "30 x 1 sparse Matrix of class \"dgCMatrix\"\n",
       "                     1\n",
       "(Intercept) 0.01177743\n",
       "X           .         \n",
       "Y           .         \n",
       "FFMC        .         \n",
       "DMC         .         \n",
       "DC          .         \n",
       "ISI         .         \n",
       "temp        .         \n",
       "RH          .         \n",
       "wind        .         \n",
       "rain        .         \n",
       "month.apr   .         \n",
       "month.aug   .         \n",
       "month.dec   .         \n",
       "month.feb   .         \n",
       "month.jan   .         \n",
       "month.jul   .         \n",
       "month.jun   .         \n",
       "month.mar   .         \n",
       "month.may   .         \n",
       "month.nov   .         \n",
       "month.oct   .         \n",
       "month.sep   .         \n",
       "day.fri     .         \n",
       "day.mon     .         \n",
       "day.sat     .         \n",
       "day.sun     .         \n",
       "day.thu     .         \n",
       "day.tue     .         \n",
       "day.wed     .         "
      ]
     },
     "metadata": {},
     "output_type": "display_data"
    }
   ],
   "source": [
    "coef(cv.lasso)"
   ]
  },
  {
   "cell_type": "markdown",
   "metadata": {},
   "source": [
    "Even the coeff function is showing only the intercept having any meaningful value."
   ]
  },
  {
   "cell_type": "markdown",
   "metadata": {},
   "source": [
    "Let us find the lambda for the lasso."
   ]
  },
  {
   "cell_type": "code",
   "execution_count": 25,
   "metadata": {},
   "outputs": [
    {
     "data": {
      "text/plain": [
       "\n",
       "Call:  glmnet(x = x[train, ], y = y[train]) \n",
       "\n",
       "   Df     %Dev    Lambda\n",
       "1   0 0.000000 2.988e-03\n",
       "2   1 0.002260 2.723e-03\n",
       "3   1 0.004135 2.481e-03\n",
       "4   3 0.007766 2.260e-03\n",
       "5   3 0.011730 2.060e-03\n",
       "6   5 0.015720 1.877e-03\n",
       "7   5 0.020080 1.710e-03\n",
       "8   6 0.024040 1.558e-03\n",
       "9   6 0.027540 1.420e-03\n",
       "10  8 0.031110 1.293e-03\n",
       "11 10 0.034700 1.179e-03\n",
       "12 10 0.038690 1.074e-03\n",
       "13 10 0.041910 9.784e-04\n",
       "14 11 0.044700 8.915e-04\n",
       "15 12 0.047040 8.123e-04\n",
       "16 12 0.049000 7.402e-04\n",
       "17 13 0.051010 6.744e-04\n",
       "18 13 0.052780 6.145e-04\n",
       "19 14 0.054260 5.599e-04\n",
       "20 14 0.055620 5.102e-04\n",
       "21 17 0.057460 4.648e-04\n",
       "22 18 0.060240 4.235e-04\n",
       "23 20 0.062750 3.859e-04\n",
       "24 20 0.064960 3.516e-04\n",
       "25 20 0.066790 3.204e-04\n",
       "26 20 0.068330 2.919e-04\n",
       "27 20 0.069590 2.660e-04\n",
       "28 20 0.070640 2.424e-04\n",
       "29 20 0.072310 2.208e-04\n",
       "30 21 0.073590 2.012e-04\n",
       "31 23 0.075280 1.833e-04\n",
       "32 23 0.076910 1.671e-04\n",
       "33 24 0.078640 1.522e-04\n",
       "34 25 0.080810 1.387e-04\n",
       "35 24 0.082490 1.264e-04\n",
       "36 25 0.084000 1.151e-04\n",
       "37 25 0.085280 1.049e-04\n",
       "38 25 0.086350 9.559e-05\n",
       "39 24 0.087240 8.710e-05\n",
       "40 24 0.087970 7.936e-05\n",
       "41 24 0.088580 7.231e-05\n",
       "42 24 0.089080 6.589e-05\n",
       "43 24 0.089510 6.004e-05\n",
       "44 24 0.089860 5.470e-05\n",
       "45 25 0.090150 4.984e-05\n",
       "46 25 0.090410 4.542e-05\n",
       "47 26 0.090630 4.138e-05\n",
       "48 26 0.090820 3.770e-05\n",
       "49 26 0.090970 3.435e-05\n",
       "50 26 0.091110 3.130e-05\n",
       "51 26 0.091220 2.852e-05\n",
       "52 26 0.091310 2.599e-05\n",
       "53 26 0.091380 2.368e-05\n",
       "54 27 0.091450 2.158e-05\n",
       "55 27 0.091510 1.966e-05\n",
       "56 27 0.091550 1.791e-05\n",
       "57 27 0.091590 1.632e-05\n",
       "58 27 0.091620 1.487e-05\n",
       "59 27 0.091650 1.355e-05\n",
       "60 27 0.091670 1.235e-05\n",
       "61 27 0.091670 1.125e-05\n",
       "62 27 0.091700 1.025e-05\n",
       "63 27 0.091710 9.340e-06\n",
       "64 27 0.091730 8.510e-06\n",
       "65 27 0.091730 7.750e-06\n",
       "66 27 0.091750 7.060e-06\n",
       "67 27 0.091750 6.440e-06\n",
       "68 27 0.091760 5.870e-06\n",
       "69 27 0.091760 5.340e-06\n",
       "70 27 0.091760 4.870e-06\n",
       "71 27 0.091770 4.440e-06\n",
       "72 27 0.091770 4.040e-06"
      ]
     },
     "metadata": {},
     "output_type": "display_data"
    }
   ],
   "source": [
    "set.seed(11)\n",
    "train = sample(seq(517),280,replace=FALSE)\n",
    "lasso.tr = glmnet(x[train,],y[train])\n",
    "lasso.tr"
   ]
  },
  {
   "cell_type": "markdown",
   "metadata": {},
   "source": [
    "The above data gives you the following data:\n",
    "- degree of freedom which is the number of non-zero coefficients \n",
    "- %dev which is like the R-squared for linear models \n",
    "- lambda value corresponding to each fit."
   ]
  },
  {
   "cell_type": "markdown",
   "metadata": {},
   "source": [
    "Let us try to make predictions on our validation set."
   ]
  },
  {
   "cell_type": "code",
   "execution_count": 26,
   "metadata": {},
   "outputs": [
    {
     "data": {
      "image/png": "[encoded data removed]",
      "text/plain": [
       "plot without title"
      ]
     },
     "metadata": {},
     "output_type": "display_data"
    }
   ],
   "source": [
    "pred=predict(lasso.tr,x[-train,])\n",
    "rmse = sqrt(apply((y[-train]-pred)^2,2,mean))\n",
    "plot(log(lasso.tr$lambda),rmse,type='b',xlab='log(lambda)')"
   ]
  },
  {
   "cell_type": "code",
   "execution_count": 27,
   "metadata": {
    "scrolled": true
   },
   "outputs": [
    {
     "data": {
      "text/html": [
       "4.04292160505814e-06"
      ],
      "text/latex": [
       "4.04292160505814e-06"
      ],
      "text/markdown": [
       "4.04292160505814e-06"
      ],
      "text/plain": [
       "[1] 4.042922e-06"
      ]
     },
     "metadata": {},
     "output_type": "display_data"
    }
   ],
   "source": [
    "# Best lambda\n",
    "lam.best = lasso.tr$lambda[order(rmse)[1]] \n",
    "lam.best #first entry"
   ]
  },
  {
   "cell_type": "markdown",
   "metadata": {},
   "source": [
    "Let us look at the co-effecients corresponding to this value of lambda."
   ]
  },
  {
   "cell_type": "code",
   "execution_count": 28,
   "metadata": {},
   "outputs": [
    {
     "data": {
      "text/plain": [
       "30 x 1 sparse Matrix of class \"dgCMatrix\"\n",
       "                        1\n",
       "(Intercept)  0.0398522958\n",
       "X            0.0014519788\n",
       "Y           -0.0001624823\n",
       "FFMC         0.0024436321\n",
       "DMC          0.0407776816\n",
       "DC          -0.0791308322\n",
       "ISI         -0.0264106814\n",
       "temp        -0.0025223746\n",
       "RH          -0.0148713974\n",
       "wind         0.0024631355\n",
       "rain        -0.0039908180\n",
       "month.apr   -0.0288134110\n",
       "month.aug    0.0122872077\n",
       "month.dec   -0.0010356676\n",
       "month.feb   -0.0270218376\n",
       "month.jan   -0.0261736168\n",
       "month.jul   -0.0033976206\n",
       "month.jun   -0.0096534021\n",
       "month.mar   -0.0328708420\n",
       "month.may    .           \n",
       "month.nov   -0.0380540596\n",
       "month.oct    0.0178634256\n",
       "month.sep    0.0262096680\n",
       "day.fri     -0.0047200826\n",
       "day.mon     -0.0061442112\n",
       "day.sat      0.0039011771\n",
       "day.sun      0.0014016627\n",
       "day.thu     -0.0106150540\n",
       "day.tue      .           \n",
       "day.wed      0.0009452590"
      ]
     },
     "metadata": {},
     "output_type": "display_data"
    }
   ],
   "source": [
    "coef(lasso.tr,s=lam.best)"
   ]
  },
  {
   "cell_type": "markdown",
   "metadata": {},
   "source": [
    "Let us create our subsets based on these variables."
   ]
  },
  {
   "cell_type": "code",
   "execution_count": 29,
   "metadata": {},
   "outputs": [],
   "source": [
    "lasso_df_train <- training[c('X','Y','FFMC','DMC','DC','ISI','temp','RH','wind','rain',\n",
    "                              'area','month.apr','month.aug','month.dec','month.feb',\n",
    "                              'month.jan','month.jul','month.jun','month.mar',\n",
    "                              'month.nov','month.oct','month.sep','day.fri','day.mon',\n",
    "                              'day.sat','day.sun','day.thu','day.wed')]\n",
    "\n",
    "lasso_df_test <- test[c('X','Y','FFMC','DMC','DC','ISI','temp','RH','wind','rain',\n",
    "                              'area','month.apr','month.aug','month.dec','month.feb',\n",
    "                              'month.jan','month.jul','month.jun','month.mar',\n",
    "                              'month.nov','month.oct','month.sep','day.fri','day.mon',\n",
    "                              'day.sat','day.sun','day.thu','day.wed')]"
   ]
  },
  {
   "cell_type": "markdown",
   "metadata": {},
   "source": [
    "#### Forward Stepwise Selection"
   ]
  },
  {
   "cell_type": "markdown",
   "metadata": {},
   "source": [
    "For our feature selection, we will also use forward stepwise selection. it begins with an empty model and adds variables one by one.\n",
    "\n",
    "regsubsets() function with the forward method is used to specify the forward selection."
   ]
  },
  {
   "cell_type": "code",
   "execution_count": 30,
   "metadata": {
    "scrolled": false
   },
   "outputs": [
    {
     "name": "stderr",
     "output_type": "stream",
     "text": [
      "Warning message in leaps.setup(x, y, wt = wt, nbest = nbest, nvmax = nvmax, force.in = force.in, :\n",
      "\"2  linear dependencies found\""
     ]
    },
    {
     "name": "stdout",
     "output_type": "stream",
     "text": [
      "Reordering variables and trying again:\n"
     ]
    },
    {
     "name": "stderr",
     "output_type": "stream",
     "text": [
      "Warning message in rval$lopt[] <- rval$vorder[rval$lopt]:\n",
      "\"number of items to replace is not a multiple of replacement length\""
     ]
    },
    {
     "data": {
      "text/plain": [
       "Subset selection object\n",
       "Call: regsubsets.formula(area ~ ., data = df, method = \"forward\", nvmax = 31)\n",
       "29 Variables  (and intercept)\n",
       "          Forced in Forced out\n",
       "X             FALSE      FALSE\n",
       "Y             FALSE      FALSE\n",
       "FFMC          FALSE      FALSE\n",
       "DMC           FALSE      FALSE\n",
       "DC            FALSE      FALSE\n",
       "ISI           FALSE      FALSE\n",
       "temp          FALSE      FALSE\n",
       "RH            FALSE      FALSE\n",
       "wind          FALSE      FALSE\n",
       "rain          FALSE      FALSE\n",
       "month.apr     FALSE      FALSE\n",
       "month.aug     FALSE      FALSE\n",
       "month.dec     FALSE      FALSE\n",
       "month.feb     FALSE      FALSE\n",
       "month.jan     FALSE      FALSE\n",
       "month.jul     FALSE      FALSE\n",
       "month.jun     FALSE      FALSE\n",
       "month.mar     FALSE      FALSE\n",
       "month.may     FALSE      FALSE\n",
       "month.nov     FALSE      FALSE\n",
       "month.oct     FALSE      FALSE\n",
       "day.fri       FALSE      FALSE\n",
       "day.mon       FALSE      FALSE\n",
       "day.sat       FALSE      FALSE\n",
       "day.sun       FALSE      FALSE\n",
       "day.thu       FALSE      FALSE\n",
       "day.tue       FALSE      FALSE\n",
       "month.sep     FALSE      FALSE\n",
       "day.wed       FALSE      FALSE\n",
       "1 subsets of each size up to 27\n",
       "Selection Algorithm: forward\n",
       "          X   Y   FFMC DMC DC  ISI temp RH  wind rain month.apr month.aug\n",
       "1  ( 1 )  \" \" \" \" \" \"  \" \" \" \" \" \" \"*\"  \" \" \" \"  \" \"  \" \"       \" \"      \n",
       "2  ( 1 )  \" \" \" \" \" \"  \" \" \" \" \" \" \"*\"  \" \" \" \"  \" \"  \" \"       \" \"      \n",
       "3  ( 1 )  \"*\" \" \" \" \"  \" \" \" \" \" \" \"*\"  \" \" \" \"  \" \"  \" \"       \" \"      \n",
       "4  ( 1 )  \"*\" \" \" \" \"  \" \" \" \" \" \" \"*\"  \" \" \" \"  \" \"  \" \"       \" \"      \n",
       "5  ( 1 )  \"*\" \" \" \" \"  \" \" \" \" \" \" \"*\"  \" \" \"*\"  \" \"  \" \"       \" \"      \n",
       "6  ( 1 )  \"*\" \" \" \" \"  \" \" \" \" \" \" \"*\"  \" \" \"*\"  \" \"  \" \"       \" \"      \n",
       "7  ( 1 )  \"*\" \" \" \" \"  \" \" \" \" \" \" \"*\"  \" \" \"*\"  \" \"  \" \"       \" \"      \n",
       "8  ( 1 )  \"*\" \" \" \" \"  \" \" \"*\" \" \" \"*\"  \" \" \"*\"  \" \"  \" \"       \" \"      \n",
       "9  ( 1 )  \"*\" \" \" \" \"  \"*\" \"*\" \" \" \"*\"  \" \" \"*\"  \" \"  \" \"       \" \"      \n",
       "10  ( 1 ) \"*\" \" \" \" \"  \"*\" \"*\" \" \" \"*\"  \" \" \"*\"  \" \"  \" \"       \" \"      \n",
       "11  ( 1 ) \"*\" \" \" \" \"  \"*\" \"*\" \" \" \"*\"  \" \" \"*\"  \" \"  \" \"       \"*\"      \n",
       "12  ( 1 ) \"*\" \" \" \" \"  \"*\" \"*\" \" \" \"*\"  \" \" \"*\"  \" \"  \" \"       \"*\"      \n",
       "13  ( 1 ) \"*\" \" \" \" \"  \"*\" \"*\" \"*\" \"*\"  \" \" \"*\"  \" \"  \" \"       \"*\"      \n",
       "14  ( 1 ) \"*\" \" \" \" \"  \"*\" \"*\" \"*\" \"*\"  \" \" \"*\"  \" \"  \" \"       \"*\"      \n",
       "15  ( 1 ) \"*\" \" \" \" \"  \"*\" \"*\" \"*\" \"*\"  \"*\" \"*\"  \" \"  \" \"       \"*\"      \n",
       "16  ( 1 ) \"*\" \" \" \" \"  \"*\" \"*\" \"*\" \"*\"  \"*\" \"*\"  \" \"  \" \"       \"*\"      \n",
       "17  ( 1 ) \"*\" \" \" \" \"  \"*\" \"*\" \"*\" \"*\"  \"*\" \"*\"  \" \"  \"*\"       \"*\"      \n",
       "18  ( 1 ) \"*\" \" \" \" \"  \"*\" \"*\" \"*\" \"*\"  \"*\" \"*\"  \"*\"  \"*\"       \"*\"      \n",
       "19  ( 1 ) \"*\" \" \" \" \"  \"*\" \"*\" \"*\" \"*\"  \"*\" \"*\"  \"*\"  \"*\"       \"*\"      \n",
       "20  ( 1 ) \"*\" \" \" \" \"  \"*\" \"*\" \"*\" \"*\"  \"*\" \"*\"  \"*\"  \"*\"       \"*\"      \n",
       "21  ( 1 ) \"*\" \" \" \" \"  \"*\" \"*\" \"*\" \"*\"  \"*\" \"*\"  \"*\"  \"*\"       \"*\"      \n",
       "22  ( 1 ) \"*\" \" \" \" \"  \"*\" \"*\" \"*\" \"*\"  \"*\" \"*\"  \"*\"  \"*\"       \"*\"      \n",
       "23  ( 1 ) \"*\" \" \" \"*\"  \"*\" \"*\" \"*\" \"*\"  \"*\" \"*\"  \"*\"  \"*\"       \"*\"      \n",
       "24  ( 1 ) \"*\" \" \" \"*\"  \"*\" \"*\" \"*\" \"*\"  \"*\" \"*\"  \"*\"  \"*\"       \"*\"      \n",
       "25  ( 1 ) \"*\" \"*\" \"*\"  \"*\" \"*\" \"*\" \"*\"  \"*\" \"*\"  \"*\"  \"*\"       \"*\"      \n",
       "26  ( 1 ) \"*\" \"*\" \"*\"  \"*\" \"*\" \"*\" \"*\"  \"*\" \"*\"  \"*\"  \"*\"       \"*\"      \n",
       "27  ( 1 ) \"*\" \"*\" \"*\"  \"*\" \"*\" \"*\" \"*\"  \"*\" \"*\"  \"*\"  \"*\"       \"*\"      \n",
       "          month.dec month.feb month.jan month.jul month.jun month.mar month.may\n",
       "1  ( 1 )  \" \"       \" \"       \" \"       \" \"       \" \"       \" \"       \" \"      \n",
       "2  ( 1 )  \" \"       \" \"       \" \"       \" \"       \" \"       \" \"       \" \"      \n",
       "3  ( 1 )  \" \"       \" \"       \" \"       \" \"       \" \"       \" \"       \" \"      \n",
       "4  ( 1 )  \" \"       \" \"       \" \"       \" \"       \" \"       \" \"       \" \"      \n",
       "5  ( 1 )  \" \"       \" \"       \" \"       \" \"       \" \"       \" \"       \" \"      \n",
       "6  ( 1 )  \" \"       \" \"       \" \"       \" \"       \" \"       \" \"       \" \"      \n",
       "7  ( 1 )  \"*\"       \" \"       \" \"       \" \"       \" \"       \" \"       \" \"      \n",
       "8  ( 1 )  \"*\"       \" \"       \" \"       \" \"       \" \"       \" \"       \" \"      \n",
       "9  ( 1 )  \"*\"       \" \"       \" \"       \" \"       \" \"       \" \"       \" \"      \n",
       "10  ( 1 ) \"*\"       \" \"       \" \"       \" \"       \" \"       \" \"       \" \"      \n",
       "11  ( 1 ) \"*\"       \" \"       \" \"       \" \"       \" \"       \" \"       \" \"      \n",
       "12  ( 1 ) \"*\"       \" \"       \" \"       \"*\"       \" \"       \" \"       \" \"      \n",
       "13  ( 1 ) \"*\"       \" \"       \" \"       \"*\"       \" \"       \" \"       \" \"      \n",
       "14  ( 1 ) \"*\"       \" \"       \" \"       \"*\"       \" \"       \"*\"       \" \"      \n",
       "15  ( 1 ) \"*\"       \" \"       \" \"       \"*\"       \" \"       \"*\"       \" \"      \n",
       "16  ( 1 ) \"*\"       \" \"       \" \"       \"*\"       \" \"       \"*\"       \" \"      \n",
       "17  ( 1 ) \"*\"       \" \"       \" \"       \"*\"       \" \"       \"*\"       \" \"      \n",
       "18  ( 1 ) \"*\"       \" \"       \" \"       \"*\"       \" \"       \"*\"       \" \"      \n",
       "19  ( 1 ) \"*\"       \" \"       \" \"       \"*\"       \" \"       \"*\"       \" \"      \n",
       "20  ( 1 ) \"*\"       \" \"       \"*\"       \"*\"       \" \"       \"*\"       \" \"      \n",
       "21  ( 1 ) \"*\"       \" \"       \"*\"       \"*\"       \" \"       \"*\"       \" \"      \n",
       "22  ( 1 ) \"*\"       \" \"       \"*\"       \"*\"       \" \"       \"*\"       \"*\"      \n",
       "23  ( 1 ) \"*\"       \" \"       \"*\"       \"*\"       \" \"       \"*\"       \"*\"      \n",
       "24  ( 1 ) \"*\"       \" \"       \"*\"       \"*\"       \" \"       \"*\"       \"*\"      \n",
       "25  ( 1 ) \"*\"       \" \"       \"*\"       \"*\"       \" \"       \"*\"       \"*\"      \n",
       "26  ( 1 ) \"*\"       \" \"       \"*\"       \"*\"       \"*\"       \"*\"       \"*\"      \n",
       "27  ( 1 ) \"*\"       \" \"       \"*\"       \"*\"       \"*\"       \"*\"       \"*\"      \n",
       "          month.nov month.oct month.sep day.fri day.mon day.sat day.sun day.thu\n",
       "1  ( 1 )  \" \"       \" \"       \" \"       \" \"     \" \"     \" \"     \" \"     \" \"    \n",
       "2  ( 1 )  \" \"       \" \"       \" \"       \" \"     \" \"     \"*\"     \" \"     \" \"    \n",
       "3  ( 1 )  \" \"       \" \"       \" \"       \" \"     \" \"     \"*\"     \" \"     \" \"    \n",
       "4  ( 1 )  \" \"       \" \"       \"*\"       \" \"     \" \"     \"*\"     \" \"     \" \"    \n",
       "5  ( 1 )  \" \"       \" \"       \"*\"       \" \"     \" \"     \"*\"     \" \"     \" \"    \n",
       "6  ( 1 )  \" \"       \" \"       \"*\"       \"*\"     \" \"     \"*\"     \" \"     \" \"    \n",
       "7  ( 1 )  \" \"       \" \"       \"*\"       \"*\"     \" \"     \"*\"     \" \"     \" \"    \n",
       "8  ( 1 )  \" \"       \" \"       \"*\"       \"*\"     \" \"     \"*\"     \" \"     \" \"    \n",
       "9  ( 1 )  \" \"       \" \"       \"*\"       \"*\"     \" \"     \"*\"     \" \"     \" \"    \n",
       "10  ( 1 ) \" \"       \"*\"       \"*\"       \"*\"     \" \"     \"*\"     \" \"     \" \"    \n",
       "11  ( 1 ) \" \"       \"*\"       \"*\"       \"*\"     \" \"     \"*\"     \" \"     \" \"    \n",
       "12  ( 1 ) \" \"       \"*\"       \"*\"       \"*\"     \" \"     \"*\"     \" \"     \" \"    \n",
       "13  ( 1 ) \" \"       \"*\"       \"*\"       \"*\"     \" \"     \"*\"     \" \"     \" \"    \n",
       "14  ( 1 ) \" \"       \"*\"       \"*\"       \"*\"     \" \"     \"*\"     \" \"     \" \"    \n",
       "15  ( 1 ) \" \"       \"*\"       \"*\"       \"*\"     \" \"     \"*\"     \" \"     \" \"    \n",
       "16  ( 1 ) \" \"       \"*\"       \"*\"       \"*\"     \" \"     \"*\"     \" \"     \"*\"    \n",
       "17  ( 1 ) \" \"       \"*\"       \"*\"       \"*\"     \" \"     \"*\"     \" \"     \"*\"    \n",
       "18  ( 1 ) \" \"       \"*\"       \"*\"       \"*\"     \" \"     \"*\"     \" \"     \"*\"    \n",
       "19  ( 1 ) \" \"       \"*\"       \"*\"       \"*\"     \" \"     \"*\"     \" \"     \"*\"    \n",
       "20  ( 1 ) \" \"       \"*\"       \"*\"       \"*\"     \" \"     \"*\"     \" \"     \"*\"    \n",
       "21  ( 1 ) \"*\"       \"*\"       \"*\"       \"*\"     \" \"     \"*\"     \" \"     \"*\"    \n",
       "22  ( 1 ) \"*\"       \"*\"       \"*\"       \"*\"     \" \"     \"*\"     \" \"     \"*\"    \n",
       "23  ( 1 ) \"*\"       \"*\"       \"*\"       \"*\"     \" \"     \"*\"     \" \"     \"*\"    \n",
       "24  ( 1 ) \"*\"       \"*\"       \"*\"       \"*\"     \"*\"     \"*\"     \" \"     \"*\"    \n",
       "25  ( 1 ) \"*\"       \"*\"       \"*\"       \"*\"     \"*\"     \"*\"     \" \"     \"*\"    \n",
       "26  ( 1 ) \"*\"       \"*\"       \"*\"       \"*\"     \"*\"     \"*\"     \" \"     \"*\"    \n",
       "27  ( 1 ) \"*\"       \"*\"       \"*\"       \"*\"     \"*\"     \"*\"     \"*\"     \"*\"    \n",
       "          day.tue day.wed\n",
       "1  ( 1 )  \" \"     \" \"    \n",
       "2  ( 1 )  \" \"     \" \"    \n",
       "3  ( 1 )  \" \"     \" \"    \n",
       "4  ( 1 )  \" \"     \" \"    \n",
       "5  ( 1 )  \" \"     \" \"    \n",
       "6  ( 1 )  \" \"     \" \"    \n",
       "7  ( 1 )  \" \"     \" \"    \n",
       "8  ( 1 )  \" \"     \" \"    \n",
       "9  ( 1 )  \" \"     \" \"    \n",
       "10  ( 1 ) \" \"     \" \"    \n",
       "11  ( 1 ) \" \"     \" \"    \n",
       "12  ( 1 ) \" \"     \" \"    \n",
       "13  ( 1 ) \" \"     \" \"    \n",
       "14  ( 1 ) \" \"     \" \"    \n",
       "15  ( 1 ) \" \"     \" \"    \n",
       "16  ( 1 ) \" \"     \" \"    \n",
       "17  ( 1 ) \" \"     \" \"    \n",
       "18  ( 1 ) \" \"     \" \"    \n",
       "19  ( 1 ) \"*\"     \" \"    \n",
       "20  ( 1 ) \"*\"     \" \"    \n",
       "21  ( 1 ) \"*\"     \" \"    \n",
       "22  ( 1 ) \"*\"     \" \"    \n",
       "23  ( 1 ) \"*\"     \" \"    \n",
       "24  ( 1 ) \"*\"     \" \"    \n",
       "25  ( 1 ) \"*\"     \" \"    \n",
       "26  ( 1 ) \"*\"     \" \"    \n",
       "27  ( 1 ) \"*\"     \" \"    "
      ]
     },
     "metadata": {},
     "output_type": "display_data"
    }
   ],
   "source": [
    "regfit.forward = regsubsets(area~. , data=df, method = \"forward\", nvmax = 31)\n",
    "regfit.forward.summary = summary(regfit.forward)\n",
    "regfit.forward.summary"
   ]
  },
  {
   "cell_type": "markdown",
   "metadata": {},
   "source": [
    "Now let us try to find the $C_{p}$, BIC and $R_{2}$ statistics for this forward method."
   ]
  },
  {
   "cell_type": "code",
   "execution_count": 31,
   "metadata": {
    "scrolled": false
   },
   "outputs": [
    {
     "name": "stdout",
     "output_type": "stream",
     "text": [
      "[1] \"minimum number of variables are  3\"\n"
     ]
    },
    {
     "data": {
      "image/png": "[encoded data removed]",
      "text/plain": [
       "plot without title"
      ]
     },
     "metadata": {},
     "output_type": "display_data"
    },
    {
     "name": "stdout",
     "output_type": "stream",
     "text": [
      "[1] \"minimum number of variables are  1\"\n"
     ]
    },
    {
     "data": {
      "image/png": "[encoded data removed]",
      "text/plain": [
       "plot without title"
      ]
     },
     "metadata": {},
     "output_type": "display_data"
    },
    {
     "name": "stdout",
     "output_type": "stream",
     "text": [
      "[1] \"minimum number of variables are  12\"\n"
     ]
    },
    {
     "data": {
      "image/png": "[encoded data removed]",
      "text/plain": [
       "plot without title"
      ]
     },
     "metadata": {},
     "output_type": "display_data"
    }
   ],
   "source": [
    "#Cp\n",
    "plot(regfit.forward.summary$cp, xlab = \"Number of variables\", ylab = \"Cp\", type = \"l\",xaxt='n')\n",
    "grid(, 15)\n",
    "axis(1, at = seq(0, 30, by = 2), las=2)\n",
    "min.cp <- min(regfit.forward.summary$cp)\n",
    "std.cp <- sd(regfit.forward.summary$cp)\n",
    "abline(h = min.cp + 0.2 * std.cp, col = \"red\", lty = 2)\n",
    "abline(h = min.cp - 0.2 * std.cp, col = \"red\", lty = 2)\n",
    "min.cp <- which.min(regfit.forward.summary$cp)\n",
    "print(paste(\"minimum number of variables are \",min.cp))\n",
    "points(min.cp, regfit.forward.summary$cp[min.cp], col = \"red\", cex = 2, pch = 20)\n",
    "#BIC\n",
    "plot(regfit.forward.summary$bic, xlab = \"Number of variables\", ylab = \"BIC\", type='l',xaxt='n')\n",
    "grid(, 15)\n",
    "axis(1, at = seq(0, 30, by = 2), las=2)\n",
    "min.bic <- min(regfit.forward.summary$bic)\n",
    "std.bic <- sd(regfit.forward.summary$bic)\n",
    "abline(h = min.bic + 0.2 * std.bic, col = \"red\", lty = 2)\n",
    "abline(h = min.bic - 0.2 * std.bic, col = \"red\", lty = 2)\n",
    "min.bic <- which.min(regfit.forward.summary$bic)\n",
    "print(paste(\"minimum number of variables are \",min.bic))\n",
    "points(min.bic, regfit.forward.summary$bic[which.min(regfit.forward.summary$bic)], col = \"red\",cex = 2, pch = 20)\n",
    "#R2\n",
    "plot(regfit.forward.summary$adjr2, xlab = \"Number of variables\", ylab = \"Adjusted R2\", type= \"l\",xaxt='n')\n",
    "grid(, 15)\n",
    "axis(1, at = seq(0, 30, by = 2), las=2)\n",
    "max.adjr2 <- max(regfit.forward.summary$adjr2)\n",
    "std.adjr2 <- sd(regfit.forward.summary$adjr2)\n",
    "abline(h = max.adjr2 + 0.2 * std.adjr2, col = \"red\", lty = 2)\n",
    "abline(h = max.adjr2 - 0.2 * std.adjr2, col = \"red\", lty = 2)\n",
    "max.adjr2 <- which.max(regfit.forward.summary$adjr2)\n",
    "print(paste(\"minimum number of variables are \",max.adjr2))\n",
    "points(max.adjr2, regfit.forward.summary$adjr2[max.adjr2], col = \"red\", cex = 2, pch = 20)"
   ]
  },
  {
   "cell_type": "markdown",
   "metadata": {},
   "source": [
    "The model has small value of $C_{p}$ and BIC which indicate a low error. However, we'll take a few variables(say 5) just for our sake."
   ]
  },
  {
   "cell_type": "code",
   "execution_count": 32,
   "metadata": {},
   "outputs": [
    {
     "data": {
      "text/html": [
       "<ol class=list-inline>\n",
       "\t<li>'(Intercept)'</li>\n",
       "\t<li>'X'</li>\n",
       "\t<li>'temp'</li>\n",
       "\t<li>'wind'</li>\n",
       "\t<li>'day.fri'</li>\n",
       "\t<li>'day.sun'</li>\n",
       "</ol>\n"
      ],
      "text/latex": [
       "\\begin{enumerate*}\n",
       "\\item '(Intercept)'\n",
       "\\item 'X'\n",
       "\\item 'temp'\n",
       "\\item 'wind'\n",
       "\\item 'day.fri'\n",
       "\\item 'day.sun'\n",
       "\\end{enumerate*}\n"
      ],
      "text/markdown": [
       "1. '(Intercept)'\n",
       "2. 'X'\n",
       "3. 'temp'\n",
       "4. 'wind'\n",
       "5. 'day.fri'\n",
       "6. 'day.sun'\n",
       "\n",
       "\n"
      ],
      "text/plain": [
       "[1] \"(Intercept)\" \"X\"           \"temp\"        \"wind\"        \"day.fri\"    \n",
       "[6] \"day.sun\"    "
      ]
     },
     "metadata": {},
     "output_type": "display_data"
    }
   ],
   "source": [
    "#Extracting coefficients\n",
    "coeff = coef(regfit.forward, id = 5)\n",
    "fw_variable = names(coeff)\n",
    "fw_variable"
   ]
  },
  {
   "cell_type": "code",
   "execution_count": 33,
   "metadata": {},
   "outputs": [],
   "source": [
    "fwd_df_train <- training[c('X' ,'temp' ,'wind',\n",
    "                           'day.fri'  ,'day.sun','area')]\n",
    "\n",
    "fwd_df_test <- test[c('X' ,'temp' ,'wind' ,\n",
    "                           'day.fri' ,'day.sun','area')]"
   ]
  },
  {
   "cell_type": "markdown",
   "metadata": {},
   "source": [
    "#### Backward Stepwise Selection"
   ]
  },
  {
   "cell_type": "markdown",
   "metadata": {},
   "source": [
    "For our feature selection, we will also use backward stepwise selection. This method starts with all the variables \n",
    "and then removes the worst features to build the model."
   ]
  },
  {
   "cell_type": "code",
   "execution_count": 34,
   "metadata": {
    "scrolled": true
   },
   "outputs": [
    {
     "name": "stderr",
     "output_type": "stream",
     "text": [
      "Warning message in leaps.setup(x, y, wt = wt, nbest = nbest, nvmax = nvmax, force.in = force.in, :\n",
      "\"2  linear dependencies found\""
     ]
    },
    {
     "name": "stdout",
     "output_type": "stream",
     "text": [
      "Reordering variables and trying again:\n"
     ]
    },
    {
     "name": "stderr",
     "output_type": "stream",
     "text": [
      "Warning message in rval$lopt[] <- rval$vorder[rval$lopt]:\n",
      "\"number of items to replace is not a multiple of replacement length\""
     ]
    },
    {
     "data": {
      "text/plain": [
       "Subset selection object\n",
       "Call: regsubsets.formula(area ~ ., data = df, method = \"backward\", \n",
       "    nvmax = 31)\n",
       "29 Variables  (and intercept)\n",
       "          Forced in Forced out\n",
       "X             FALSE      FALSE\n",
       "Y             FALSE      FALSE\n",
       "FFMC          FALSE      FALSE\n",
       "DMC           FALSE      FALSE\n",
       "DC            FALSE      FALSE\n",
       "ISI           FALSE      FALSE\n",
       "temp          FALSE      FALSE\n",
       "RH            FALSE      FALSE\n",
       "wind          FALSE      FALSE\n",
       "rain          FALSE      FALSE\n",
       "month.apr     FALSE      FALSE\n",
       "month.aug     FALSE      FALSE\n",
       "month.dec     FALSE      FALSE\n",
       "month.feb     FALSE      FALSE\n",
       "month.jan     FALSE      FALSE\n",
       "month.jul     FALSE      FALSE\n",
       "month.jun     FALSE      FALSE\n",
       "month.mar     FALSE      FALSE\n",
       "month.may     FALSE      FALSE\n",
       "month.nov     FALSE      FALSE\n",
       "month.oct     FALSE      FALSE\n",
       "day.fri       FALSE      FALSE\n",
       "day.mon       FALSE      FALSE\n",
       "day.sat       FALSE      FALSE\n",
       "day.sun       FALSE      FALSE\n",
       "day.thu       FALSE      FALSE\n",
       "day.tue       FALSE      FALSE\n",
       "month.sep     FALSE      FALSE\n",
       "day.wed       FALSE      FALSE\n",
       "1 subsets of each size up to 27\n",
       "Selection Algorithm: backward\n",
       "          X   Y   FFMC DMC DC  ISI temp RH  wind rain month.apr month.aug\n",
       "1  ( 1 )  \" \" \" \" \" \"  \" \" \" \" \" \" \"*\"  \" \" \" \"  \" \"  \" \"       \" \"      \n",
       "2  ( 1 )  \" \" \" \" \" \"  \" \" \" \" \" \" \"*\"  \" \" \" \"  \" \"  \" \"       \" \"      \n",
       "3  ( 1 )  \"*\" \" \" \" \"  \" \" \" \" \" \" \"*\"  \" \" \" \"  \" \"  \" \"       \" \"      \n",
       "4  ( 1 )  \"*\" \" \" \" \"  \" \" \" \" \" \" \"*\"  \" \" \" \"  \" \"  \" \"       \"*\"      \n",
       "5  ( 1 )  \"*\" \" \" \" \"  \"*\" \" \" \" \" \"*\"  \" \" \" \"  \" \"  \" \"       \"*\"      \n",
       "6  ( 1 )  \"*\" \" \" \" \"  \"*\" \" \" \" \" \"*\"  \" \" \" \"  \" \"  \" \"       \"*\"      \n",
       "7  ( 1 )  \"*\" \" \" \" \"  \"*\" \" \" \" \" \"*\"  \" \" \" \"  \" \"  \" \"       \"*\"      \n",
       "8  ( 1 )  \"*\" \" \" \" \"  \"*\" \"*\" \" \" \"*\"  \" \" \" \"  \" \"  \" \"       \"*\"      \n",
       "9  ( 1 )  \"*\" \" \" \" \"  \"*\" \"*\" \" \" \"*\"  \" \" \" \"  \" \"  \" \"       \"*\"      \n",
       "10  ( 1 ) \"*\" \" \" \" \"  \"*\" \"*\" \" \" \"*\"  \" \" \" \"  \" \"  \" \"       \"*\"      \n",
       "11  ( 1 ) \"*\" \" \" \" \"  \"*\" \"*\" \" \" \"*\"  \" \" \" \"  \" \"  \"*\"       \"*\"      \n",
       "12  ( 1 ) \"*\" \" \" \" \"  \"*\" \"*\" \" \" \"*\"  \" \" \"*\"  \" \"  \"*\"       \"*\"      \n",
       "13  ( 1 ) \"*\" \" \" \" \"  \"*\" \"*\" \" \" \"*\"  \" \" \"*\"  \" \"  \"*\"       \"*\"      \n",
       "14  ( 1 ) \"*\" \" \" \" \"  \"*\" \"*\" \" \" \"*\"  \" \" \"*\"  \" \"  \"*\"       \"*\"      \n",
       "15  ( 1 ) \"*\" \" \" \" \"  \"*\" \"*\" \" \" \"*\"  \" \" \"*\"  \" \"  \"*\"       \"*\"      \n",
       "16  ( 1 ) \"*\" \" \" \" \"  \"*\" \"*\" \" \" \"*\"  \" \" \"*\"  \" \"  \"*\"       \"*\"      \n",
       "17  ( 1 ) \"*\" \" \" \" \"  \"*\" \"*\" \"*\" \"*\"  \" \" \"*\"  \" \"  \"*\"       \"*\"      \n",
       "18  ( 1 ) \"*\" \" \" \" \"  \"*\" \"*\" \"*\" \"*\"  \" \" \"*\"  \" \"  \"*\"       \"*\"      \n",
       "19  ( 1 ) \"*\" \" \" \" \"  \"*\" \"*\" \"*\" \"*\"  \"*\" \"*\"  \" \"  \"*\"       \"*\"      \n",
       "20  ( 1 ) \"*\" \" \" \" \"  \"*\" \"*\" \"*\" \"*\"  \"*\" \"*\"  \" \"  \"*\"       \"*\"      \n",
       "21  ( 1 ) \"*\" \" \" \" \"  \"*\" \"*\" \"*\" \"*\"  \"*\" \"*\"  \" \"  \"*\"       \"*\"      \n",
       "22  ( 1 ) \"*\" \" \" \" \"  \"*\" \"*\" \"*\" \"*\"  \"*\" \"*\"  \"*\"  \"*\"       \"*\"      \n",
       "23  ( 1 ) \"*\" \" \" \" \"  \"*\" \"*\" \"*\" \"*\"  \"*\" \"*\"  \"*\"  \"*\"       \"*\"      \n",
       "24  ( 1 ) \"*\" \" \" \"*\"  \"*\" \"*\" \"*\" \"*\"  \"*\" \"*\"  \"*\"  \"*\"       \"*\"      \n",
       "25  ( 1 ) \"*\" \" \" \"*\"  \"*\" \"*\" \"*\" \"*\"  \"*\" \"*\"  \"*\"  \"*\"       \"*\"      \n",
       "26  ( 1 ) \"*\" \"*\" \"*\"  \"*\" \"*\" \"*\" \"*\"  \"*\" \"*\"  \"*\"  \"*\"       \"*\"      \n",
       "27  ( 1 ) \"*\" \"*\" \"*\"  \"*\" \"*\" \"*\" \"*\"  \"*\" \"*\"  \"*\"  \"*\"       \"*\"      \n",
       "          month.dec month.feb month.jan month.jul month.jun month.mar month.may\n",
       "1  ( 1 )  \" \"       \" \"       \" \"       \" \"       \" \"       \" \"       \" \"      \n",
       "2  ( 1 )  \" \"       \" \"       \" \"       \" \"       \" \"       \" \"       \" \"      \n",
       "3  ( 1 )  \" \"       \" \"       \" \"       \" \"       \" \"       \" \"       \" \"      \n",
       "4  ( 1 )  \" \"       \" \"       \" \"       \" \"       \" \"       \" \"       \" \"      \n",
       "5  ( 1 )  \" \"       \" \"       \" \"       \" \"       \" \"       \" \"       \" \"      \n",
       "6  ( 1 )  \" \"       \" \"       \" \"       \" \"       \"*\"       \" \"       \" \"      \n",
       "7  ( 1 )  \" \"       \" \"       \" \"       \"*\"       \"*\"       \" \"       \" \"      \n",
       "8  ( 1 )  \" \"       \" \"       \" \"       \"*\"       \"*\"       \" \"       \" \"      \n",
       "9  ( 1 )  \" \"       \" \"       \" \"       \"*\"       \"*\"       \"*\"       \" \"      \n",
       "10  ( 1 ) \" \"       \"*\"       \" \"       \"*\"       \"*\"       \"*\"       \" \"      \n",
       "11  ( 1 ) \" \"       \"*\"       \" \"       \"*\"       \"*\"       \"*\"       \" \"      \n",
       "12  ( 1 ) \" \"       \"*\"       \" \"       \"*\"       \"*\"       \"*\"       \" \"      \n",
       "13  ( 1 ) \" \"       \"*\"       \" \"       \"*\"       \"*\"       \"*\"       \" \"      \n",
       "14  ( 1 ) \" \"       \"*\"       \" \"       \"*\"       \"*\"       \"*\"       \"*\"      \n",
       "15  ( 1 ) \" \"       \"*\"       \" \"       \"*\"       \"*\"       \"*\"       \"*\"      \n",
       "16  ( 1 ) \" \"       \"*\"       \"*\"       \"*\"       \"*\"       \"*\"       \"*\"      \n",
       "17  ( 1 ) \" \"       \"*\"       \"*\"       \"*\"       \"*\"       \"*\"       \"*\"      \n",
       "18  ( 1 ) \"*\"       \"*\"       \"*\"       \"*\"       \"*\"       \"*\"       \"*\"      \n",
       "19  ( 1 ) \"*\"       \"*\"       \"*\"       \"*\"       \"*\"       \"*\"       \"*\"      \n",
       "20  ( 1 ) \"*\"       \"*\"       \"*\"       \"*\"       \"*\"       \"*\"       \"*\"      \n",
       "21  ( 1 ) \"*\"       \"*\"       \"*\"       \"*\"       \"*\"       \"*\"       \"*\"      \n",
       "22  ( 1 ) \"*\"       \"*\"       \"*\"       \"*\"       \"*\"       \"*\"       \"*\"      \n",
       "23  ( 1 ) \"*\"       \"*\"       \"*\"       \"*\"       \"*\"       \"*\"       \"*\"      \n",
       "24  ( 1 ) \"*\"       \"*\"       \"*\"       \"*\"       \"*\"       \"*\"       \"*\"      \n",
       "25  ( 1 ) \"*\"       \"*\"       \"*\"       \"*\"       \"*\"       \"*\"       \"*\"      \n",
       "26  ( 1 ) \"*\"       \"*\"       \"*\"       \"*\"       \"*\"       \"*\"       \"*\"      \n",
       "27  ( 1 ) \"*\"       \"*\"       \"*\"       \"*\"       \"*\"       \"*\"       \"*\"      \n",
       "          month.nov month.oct month.sep day.fri day.mon day.sat day.sun day.thu\n",
       "1  ( 1 )  \" \"       \" \"       \" \"       \" \"     \" \"     \" \"     \" \"     \" \"    \n",
       "2  ( 1 )  \" \"       \" \"       \" \"       \" \"     \" \"     \"*\"     \" \"     \" \"    \n",
       "3  ( 1 )  \" \"       \" \"       \" \"       \" \"     \" \"     \"*\"     \" \"     \" \"    \n",
       "4  ( 1 )  \" \"       \" \"       \" \"       \" \"     \" \"     \"*\"     \" \"     \" \"    \n",
       "5  ( 1 )  \" \"       \" \"       \" \"       \" \"     \" \"     \"*\"     \" \"     \" \"    \n",
       "6  ( 1 )  \" \"       \" \"       \" \"       \" \"     \" \"     \"*\"     \" \"     \" \"    \n",
       "7  ( 1 )  \" \"       \" \"       \" \"       \" \"     \" \"     \"*\"     \" \"     \" \"    \n",
       "8  ( 1 )  \" \"       \" \"       \" \"       \" \"     \" \"     \"*\"     \" \"     \" \"    \n",
       "9  ( 1 )  \" \"       \" \"       \" \"       \" \"     \" \"     \"*\"     \" \"     \" \"    \n",
       "10  ( 1 ) \" \"       \" \"       \" \"       \" \"     \" \"     \"*\"     \" \"     \" \"    \n",
       "11  ( 1 ) \" \"       \" \"       \" \"       \" \"     \" \"     \"*\"     \" \"     \" \"    \n",
       "12  ( 1 ) \" \"       \" \"       \" \"       \" \"     \" \"     \"*\"     \" \"     \" \"    \n",
       "13  ( 1 ) \" \"       \" \"       \" \"       \"*\"     \" \"     \"*\"     \" \"     \" \"    \n",
       "14  ( 1 ) \" \"       \" \"       \" \"       \"*\"     \" \"     \"*\"     \" \"     \" \"    \n",
       "15  ( 1 ) \"*\"       \" \"       \" \"       \"*\"     \" \"     \"*\"     \" \"     \" \"    \n",
       "16  ( 1 ) \"*\"       \" \"       \" \"       \"*\"     \" \"     \"*\"     \" \"     \" \"    \n",
       "17  ( 1 ) \"*\"       \" \"       \" \"       \"*\"     \" \"     \"*\"     \" \"     \" \"    \n",
       "18  ( 1 ) \"*\"       \" \"       \" \"       \"*\"     \" \"     \"*\"     \" \"     \" \"    \n",
       "19  ( 1 ) \"*\"       \" \"       \" \"       \"*\"     \" \"     \"*\"     \" \"     \" \"    \n",
       "20  ( 1 ) \"*\"       \" \"       \" \"       \"*\"     \" \"     \"*\"     \" \"     \"*\"    \n",
       "21  ( 1 ) \"*\"       \"*\"       \" \"       \"*\"     \" \"     \"*\"     \" \"     \"*\"    \n",
       "22  ( 1 ) \"*\"       \"*\"       \" \"       \"*\"     \" \"     \"*\"     \" \"     \"*\"    \n",
       "23  ( 1 ) \"*\"       \"*\"       \" \"       \"*\"     \" \"     \"*\"     \" \"     \"*\"    \n",
       "24  ( 1 ) \"*\"       \"*\"       \" \"       \"*\"     \" \"     \"*\"     \" \"     \"*\"    \n",
       "25  ( 1 ) \"*\"       \"*\"       \" \"       \"*\"     \"*\"     \"*\"     \" \"     \"*\"    \n",
       "26  ( 1 ) \"*\"       \"*\"       \" \"       \"*\"     \"*\"     \"*\"     \" \"     \"*\"    \n",
       "27  ( 1 ) \"*\"       \"*\"       \" \"       \"*\"     \"*\"     \"*\"     \"*\"     \"*\"    \n",
       "          day.tue day.wed\n",
       "1  ( 1 )  \" \"     \" \"    \n",
       "2  ( 1 )  \" \"     \" \"    \n",
       "3  ( 1 )  \" \"     \" \"    \n",
       "4  ( 1 )  \" \"     \" \"    \n",
       "5  ( 1 )  \" \"     \" \"    \n",
       "6  ( 1 )  \" \"     \" \"    \n",
       "7  ( 1 )  \" \"     \" \"    \n",
       "8  ( 1 )  \" \"     \" \"    \n",
       "9  ( 1 )  \" \"     \" \"    \n",
       "10  ( 1 ) \" \"     \" \"    \n",
       "11  ( 1 ) \" \"     \" \"    \n",
       "12  ( 1 ) \" \"     \" \"    \n",
       "13  ( 1 ) \" \"     \" \"    \n",
       "14  ( 1 ) \" \"     \" \"    \n",
       "15  ( 1 ) \" \"     \" \"    \n",
       "16  ( 1 ) \" \"     \" \"    \n",
       "17  ( 1 ) \" \"     \" \"    \n",
       "18  ( 1 ) \" \"     \" \"    \n",
       "19  ( 1 ) \" \"     \" \"    \n",
       "20  ( 1 ) \" \"     \" \"    \n",
       "21  ( 1 ) \" \"     \" \"    \n",
       "22  ( 1 ) \" \"     \" \"    \n",
       "23  ( 1 ) \"*\"     \" \"    \n",
       "24  ( 1 ) \"*\"     \" \"    \n",
       "25  ( 1 ) \"*\"     \" \"    \n",
       "26  ( 1 ) \"*\"     \" \"    \n",
       "27  ( 1 ) \"*\"     \" \"    "
      ]
     },
     "metadata": {},
     "output_type": "display_data"
    }
   ],
   "source": [
    "regfit.backward = regsubsets(area~. , data=df, method = \"backward\", nvmax = 31\n",
    ")\n",
    "regfit.backward.sum=summary(regfit.backward)\n",
    "regfit.backward.sum"
   ]
  },
  {
   "cell_type": "markdown",
   "metadata": {},
   "source": [
    "Now let us try to find the $C_{p}$, BIC and $R_{2}$ statistics for this backward method."
   ]
  },
  {
   "cell_type": "code",
   "execution_count": 35,
   "metadata": {
    "scrolled": false
   },
   "outputs": [
    {
     "name": "stdout",
     "output_type": "stream",
     "text": [
      "[1] \"minimum number of variables are  3\"\n"
     ]
    },
    {
     "data": {
      "image/png": "[encoded data removed]",
      "text/plain": [
       "plot without title"
      ]
     },
     "metadata": {},
     "output_type": "display_data"
    },
    {
     "name": "stdout",
     "output_type": "stream",
     "text": [
      "[1] \"minimum number of variables are  1\"\n"
     ]
    },
    {
     "data": {
      "image/png": "[encoded data removed]",
      "text/plain": [
       "plot without title"
      ]
     },
     "metadata": {},
     "output_type": "display_data"
    },
    {
     "name": "stdout",
     "output_type": "stream",
     "text": [
      "[1] \"minimum number of variables are  5\"\n"
     ]
    },
    {
     "data": {
      "image/png": "[encoded data removed]",
      "text/plain": [
       "plot without title"
      ]
     },
     "metadata": {},
     "output_type": "display_data"
    }
   ],
   "source": [
    "#cp\n",
    "plot(regfit.backward.sum$cp, xlab = \"Number of variables\", ylab = \"Cp\", type = \"l\",xaxt='n')\n",
    "grid(, 15)\n",
    "axis(1, at = seq(0, 31, by = 2), las=2)\n",
    "min.cp <- min(regfit.backward.sum$cp)\n",
    "std.cp <- sd(regfit.backward.sum$cp)\n",
    "abline(h = min.cp + 0.2 * std.cp, col = \"red\", lty = 2)\n",
    "abline(h = min.cp - 0.2 * std.cp, col = \"red\", lty = 2)\n",
    "min.cp <- which.min(regfit.backward.sum$cp)\n",
    "print(paste(\"minimum number of variables are \",min.cp))\n",
    "points(min.cp, regfit.backward.sum$cp[min.cp], col = \"red\", cex = 2, pch = 20)\n",
    "#BIC\n",
    "plot(regfit.backward.sum$bic, xlab = \"Number of variables\", ylab = \"BIC\", type='l',xaxt='n')\n",
    "grid(, 15)\n",
    "axis(1, at = seq(0, 31, by = 2), las=2)\n",
    "min.bic <- min(regfit.backward.sum$bic)\n",
    "std.bic <- sd(regfit.backward.sum$bic)\n",
    "abline(h = min.bic + 0.2 * std.bic, col = \"red\", lty = 2)\n",
    "abline(h = min.bic - 0.2 * std.bic, col = \"red\", lty = 2)\n",
    "min.bic <- which.min(regfit.backward.sum$bic)\n",
    "print(paste(\"minimum number of variables are \",min.bic))\n",
    "points(min.bic, regfit.backward.sum$bic[which.min(regfit.backward.sum$bic)], col = \"red\", cex = 2, pch = 20)\n",
    "#R2\n",
    "plot(regfit.backward.sum$adjr2, xlab = \"Number of variables\", ylab = \"Adjusted R2\", type = \"l\",xaxt='n')\n",
    "grid(, 15)\n",
    "axis(1, at = seq(0, 31, by = 2), las=2)\n",
    "max.adjr2 <- max(regfit.backward.sum$adjr2)\n",
    "std.adjr2 <- sd(regfit.backward.sum$adjr2)\n",
    "abline(h = max.adjr2 + 0.2 * std.adjr2, col = \"red\", lty = 2)\n",
    "abline(h = max.adjr2 - 0.2 * std.adjr2, col = \"red\", lty = 2)\n",
    "max.adjr2 <- which.max(regfit.backward.sum$adjr2)\n",
    "print(paste(\"minimum number of variables are \",max.adjr2))\n",
    "points(max.adjr2, regfit.backward.sum$adjr2[max.adjr2], col = \"red\", cex = 2, pch = 20)"
   ]
  },
  {
   "cell_type": "markdown",
   "metadata": {},
   "source": [
    "This model also has very low  $C_{p}$ and BIC which are good but it also has a low $R_{2}$. Thus, we're going to choose the top 5 features for our backward model."
   ]
  },
  {
   "cell_type": "code",
   "execution_count": 36,
   "metadata": {},
   "outputs": [
    {
     "data": {
      "text/html": [
       "<ol class=list-inline>\n",
       "\t<li>'(Intercept)'</li>\n",
       "\t<li>'X'</li>\n",
       "\t<li>'DMC'</li>\n",
       "\t<li>'temp'</li>\n",
       "\t<li>'month.aug'</li>\n",
       "\t<li>'day.sun'</li>\n",
       "</ol>\n"
      ],
      "text/latex": [
       "\\begin{enumerate*}\n",
       "\\item '(Intercept)'\n",
       "\\item 'X'\n",
       "\\item 'DMC'\n",
       "\\item 'temp'\n",
       "\\item 'month.aug'\n",
       "\\item 'day.sun'\n",
       "\\end{enumerate*}\n"
      ],
      "text/markdown": [
       "1. '(Intercept)'\n",
       "2. 'X'\n",
       "3. 'DMC'\n",
       "4. 'temp'\n",
       "5. 'month.aug'\n",
       "6. 'day.sun'\n",
       "\n",
       "\n"
      ],
      "text/plain": [
       "[1] \"(Intercept)\" \"X\"           \"DMC\"         \"temp\"        \"month.aug\"  \n",
       "[6] \"day.sun\"    "
      ]
     },
     "metadata": {},
     "output_type": "display_data"
    }
   ],
   "source": [
    "#Extracting coefficients\n",
    "coeff = coef(regfit.backward, id = 5)\n",
    "bw_variable = names(coeff)\n",
    "bw_variable"
   ]
  },
  {
   "cell_type": "code",
   "execution_count": 37,
   "metadata": {},
   "outputs": [],
   "source": [
    "bw_df_train <- training[c('X','DMC','temp' ,'month.aug','day.sun','area')]\n",
    "\n",
    "bw_df_test <- test[c('X','DMC','temp' ,'month.aug' ,'day.sun','area')]"
   ]
  },
  {
   "cell_type": "markdown",
   "metadata": {},
   "source": [
    "## Prediction Model"
   ]
  },
  {
   "cell_type": "markdown",
   "metadata": {},
   "source": [
    "### Linear Regresion"
   ]
  },
  {
   "cell_type": "markdown",
   "metadata": {},
   "source": [
    "One of the major task for us is to predict the burned area. Hence, we need to\n",
    "build a prediction model using the features/variables given to us. For this task, we will be using Linear\n",
    "Regression .\n",
    "\n",
    " It is one of the most popular regression methods. Linear regressoin can show us the relationship between the dependeant variable with the other independent variables. We will first build a model with all the variables and then subsequently build models with featuers extracted from lasso, forward and backward methods."
   ]
  },
  {
   "cell_type": "code",
   "execution_count": 38,
   "metadata": {},
   "outputs": [
    {
     "data": {
      "text/plain": [
       "\n",
       "Call:\n",
       "lm(formula = area ~ ., data = training)\n",
       "\n",
       "Residuals:\n",
       "     Min       1Q   Median       3Q      Max \n",
       "-0.05605 -0.01753 -0.00644  0.00474  0.94789 \n",
       "\n",
       "Coefficients: (3 not defined because of singularities)\n",
       "              Estimate Std. Error t value Pr(>|t|)  \n",
       "(Intercept)  0.0521018  0.0786581   0.662   0.5081  \n",
       "X            0.0023766  0.0015174   1.566   0.1180  \n",
       "Y           -0.0004055  0.0028784  -0.141   0.8880  \n",
       "FFMC         0.0071160  0.0674613   0.105   0.9160  \n",
       "DMC          0.0579665  0.0253174   2.290   0.0225 *\n",
       "DC          -0.1087313  0.0497079  -2.187   0.0292 *\n",
       "ISI         -0.0373721  0.0479154  -0.780   0.4358  \n",
       "temp         0.0362057  0.0322009   1.124   0.2615  \n",
       "RH          -0.0139597  0.0250659  -0.557   0.5779  \n",
       "wind         0.0177975  0.0160712   1.107   0.2687  \n",
       "rain        -0.0179165  0.0614218  -0.292   0.7707  \n",
       "month.apr   -0.0737147  0.0420652  -1.752   0.0804 .\n",
       "month.aug   -0.0259021  0.0104058  -2.489   0.0132 *\n",
       "month.dec   -0.0277355  0.0330917  -0.838   0.4024  \n",
       "month.feb   -0.0678688  0.0389027  -1.745   0.0818 .\n",
       "month.jan   -0.0299320  0.0891621  -0.336   0.7373  \n",
       "month.jul   -0.0441025  0.0209071  -2.109   0.0355 *\n",
       "month.jun   -0.0656961  0.0289013  -2.273   0.0235 *\n",
       "month.mar   -0.0776849  0.0365982  -2.123   0.0343 *\n",
       "month.may   -0.0622428  0.0555304  -1.121   0.2630  \n",
       "month.nov           NA         NA      NA       NA  \n",
       "month.oct   -0.0030704  0.0203684  -0.151   0.8802  \n",
       "month.sep           NA         NA      NA       NA  \n",
       "day.fri     -0.0036374  0.0112979  -0.322   0.7476  \n",
       "day.mon      0.0007234  0.0115967   0.062   0.9503  \n",
       "day.sat      0.0159363  0.0112222   1.420   0.1563  \n",
       "day.sun      0.0006783  0.0111271   0.061   0.9514  \n",
       "day.thu      0.0047628  0.0119756   0.398   0.6910  \n",
       "day.tue      0.0032527  0.0120952   0.269   0.7881  \n",
       "day.wed             NA         NA      NA       NA  \n",
       "---\n",
       "Signif. codes:  0 '***' 0.001 '**' 0.01 '*' 0.05 '.' 0.1 ' ' 1\n",
       "\n",
       "Residual standard error: 0.06148 on 440 degrees of freedom\n",
       "Multiple R-squared:  0.04924,\tAdjusted R-squared:  -0.006941 \n",
       "F-statistic: 0.8765 on 26 and 440 DF,  p-value: 0.6432\n"
      ]
     },
     "metadata": {},
     "output_type": "display_data"
    }
   ],
   "source": [
    "fit_lm=lm(area~., training)\n",
    "summary(fit_lm)"
   ]
  },
  {
   "cell_type": "code",
   "execution_count": 39,
   "metadata": {
    "scrolled": false
   },
   "outputs": [
    {
     "name": "stderr",
     "output_type": "stream",
     "text": [
      "Warning message:\n",
      "\"not plotting observations with leverage one:\n",
      "  340\"Warning message:\n",
      "\"not plotting observations with leverage one:\n",
      "  340\""
     ]
    },
    {
     "data": {
      "image/png": "[encoded data removed]",
      "text/plain": [
       "Plot with title \"\""
      ]
     },
     "metadata": {},
     "output_type": "display_data"
    }
   ],
   "source": [
    "par(mfrow = c(2,2))\n",
    "plot(fit_lm)"
   ]
  },
  {
   "cell_type": "markdown",
   "metadata": {},
   "source": [
    "### Linear regression with Lasso shrinkage"
   ]
  },
  {
   "cell_type": "code",
   "execution_count": 40,
   "metadata": {},
   "outputs": [
    {
     "data": {
      "text/plain": [
       "\n",
       "Call:\n",
       "lm(formula = area ~ ., data = lasso_df_train)\n",
       "\n",
       "Residuals:\n",
       "     Min       1Q   Median       3Q      Max \n",
       "-0.05605 -0.01753 -0.00644  0.00474  0.94789 \n",
       "\n",
       "Coefficients: (1 not defined because of singularities)\n",
       "              Estimate Std. Error t value Pr(>|t|)  \n",
       "(Intercept) -0.0068883  0.0809698  -0.085   0.9322  \n",
       "X            0.0023766  0.0015174   1.566   0.1180  \n",
       "Y           -0.0004055  0.0028784  -0.141   0.8880  \n",
       "FFMC         0.0071160  0.0674613   0.105   0.9160  \n",
       "DMC          0.0579665  0.0253174   2.290   0.0225 *\n",
       "DC          -0.1087313  0.0497079  -2.187   0.0292 *\n",
       "ISI         -0.0373721  0.0479154  -0.780   0.4358  \n",
       "temp         0.0362057  0.0322009   1.124   0.2615  \n",
       "RH          -0.0139597  0.0250659  -0.557   0.5779  \n",
       "wind         0.0177975  0.0160712   1.107   0.2687  \n",
       "rain        -0.0179165  0.0614218  -0.292   0.7707  \n",
       "month.apr   -0.0114719  0.0491094  -0.234   0.8154  \n",
       "month.aug    0.0363407  0.0522066   0.696   0.4867  \n",
       "month.dec    0.0345073  0.0541627   0.637   0.5244  \n",
       "month.feb   -0.0056260  0.0466246  -0.121   0.9040  \n",
       "month.jan    0.0323108  0.0949763   0.340   0.7339  \n",
       "month.jul    0.0181403  0.0488645   0.371   0.7106  \n",
       "month.jun   -0.0034533  0.0478863  -0.072   0.9425  \n",
       "month.mar   -0.0154421  0.0456198  -0.338   0.7352  \n",
       "month.nov           NA         NA      NA       NA  \n",
       "month.oct    0.0591723  0.0586652   1.009   0.3137  \n",
       "month.sep    0.0622428  0.0555304   1.121   0.2630  \n",
       "day.fri     -0.0068901  0.0111178  -0.620   0.5358  \n",
       "day.mon     -0.0025292  0.0115202  -0.220   0.8263  \n",
       "day.sat      0.0126837  0.0111249   1.140   0.2549  \n",
       "day.sun     -0.0025744  0.0110011  -0.234   0.8151  \n",
       "day.thu      0.0015101  0.0120418   0.125   0.9003  \n",
       "day.wed     -0.0032527  0.0120952  -0.269   0.7881  \n",
       "---\n",
       "Signif. codes:  0 '***' 0.001 '**' 0.01 '*' 0.05 '.' 0.1 ' ' 1\n",
       "\n",
       "Residual standard error: 0.06148 on 440 degrees of freedom\n",
       "Multiple R-squared:  0.04924,\tAdjusted R-squared:  -0.006941 \n",
       "F-statistic: 0.8765 on 26 and 440 DF,  p-value: 0.6432\n"
      ]
     },
     "metadata": {},
     "output_type": "display_data"
    }
   ],
   "source": [
    "fit_lasso=lm(area~.,data=lasso_df_train)\n",
    "summary(fit_lasso)"
   ]
  },
  {
   "cell_type": "code",
   "execution_count": 41,
   "metadata": {
    "scrolled": false
   },
   "outputs": [
    {
     "name": "stderr",
     "output_type": "stream",
     "text": [
      "Warning message:\n",
      "\"not plotting observations with leverage one:\n",
      "  340\"Warning message:\n",
      "\"not plotting observations with leverage one:\n",
      "  340\""
     ]
    },
    {
     "data": {
      "image/png": "[encoded data removed]",
      "text/plain": [
       "Plot with title \"\""
      ]
     },
     "metadata": {},
     "output_type": "display_data"
    }
   ],
   "source": [
    "par(mfrow = c(2,2))\n",
    "plot(fit_lasso)"
   ]
  },
  {
   "cell_type": "markdown",
   "metadata": {},
   "source": [
    "Linear Regression with forward Stepwise Selection"
   ]
  },
  {
   "cell_type": "code",
   "execution_count": 42,
   "metadata": {},
   "outputs": [
    {
     "data": {
      "text/plain": [
       "\n",
       "Call:\n",
       "lm(formula = area ~ ., data = fwd_df_train)\n",
       "\n",
       "Residuals:\n",
       "     Min       1Q   Median       3Q      Max \n",
       "-0.03375 -0.01530 -0.00903 -0.00060  0.97547 \n",
       "\n",
       "Coefficients:\n",
       "             Estimate Std. Error t value Pr(>|t|)  \n",
       "(Intercept) -0.016732   0.013155  -1.272   0.2040  \n",
       "X            0.001756   0.001214   1.447   0.1485  \n",
       "temp         0.034910   0.015319   2.279   0.0231 *\n",
       "wind         0.012550   0.014521   0.864   0.3879  \n",
       "day.fri     -0.009260   0.007875  -1.176   0.2402  \n",
       "day.sun     -0.004875   0.007614  -0.640   0.5223  \n",
       "---\n",
       "Signif. codes:  0 '***' 0.001 '**' 0.01 '*' 0.05 '.' 0.1 ' ' 1\n",
       "\n",
       "Residual standard error: 0.06102 on 461 degrees of freedom\n",
       "Multiple R-squared:  0.01901,\tAdjusted R-squared:  0.008369 \n",
       "F-statistic: 1.787 on 5 and 461 DF,  p-value: 0.1141\n"
      ]
     },
     "metadata": {},
     "output_type": "display_data"
    }
   ],
   "source": [
    "fit_fd=lm(area~.,data=fwd_df_train)\n",
    "summary(fit_fd)"
   ]
  },
  {
   "cell_type": "code",
   "execution_count": 43,
   "metadata": {},
   "outputs": [
    {
     "data": {
      "image/png": "[encoded data removed]",
      "text/plain": [
       "Plot with title \"\""
      ]
     },
     "metadata": {},
     "output_type": "display_data"
    }
   ],
   "source": [
    "par(mfrow = c(2,2))\n",
    "plot(fit_fd)"
   ]
  },
  {
   "cell_type": "markdown",
   "metadata": {},
   "source": [
    "Linear regression using Backward Stepwise Selection"
   ]
  },
  {
   "cell_type": "code",
   "execution_count": 44,
   "metadata": {},
   "outputs": [
    {
     "data": {
      "text/plain": [
       "\n",
       "Call:\n",
       "lm(formula = area ~ ., data = bw_df_train)\n",
       "\n",
       "Residuals:\n",
       "     Min       1Q   Median       3Q      Max \n",
       "-0.03465 -0.01545 -0.00881 -0.00119  0.97449 \n",
       "\n",
       "Coefficients:\n",
       "             Estimate Std. Error t value Pr(>|t|)  \n",
       "(Intercept) -0.015908   0.010793  -1.474    0.141  \n",
       "X            0.001870   0.001212   1.543    0.124  \n",
       "DMC          0.019574   0.015866   1.234    0.218  \n",
       "temp         0.030024   0.017055   1.760    0.079 .\n",
       "month.aug   -0.008504   0.006885  -1.235    0.217  \n",
       "day.sun     -0.002463   0.007436  -0.331    0.741  \n",
       "---\n",
       "Signif. codes:  0 '***' 0.001 '**' 0.01 '*' 0.05 '.' 0.1 ' ' 1\n",
       "\n",
       "Residual standard error: 0.061 on 461 degrees of freedom\n",
       "Multiple R-squared:  0.01961,\tAdjusted R-squared:  0.008976 \n",
       "F-statistic: 1.844 on 5 and 461 DF,  p-value: 0.1029\n"
      ]
     },
     "metadata": {},
     "output_type": "display_data"
    }
   ],
   "source": [
    "fit_bw=lm(area~.,data=bw_df_train)\n",
    "summary(fit_bw)"
   ]
  },
  {
   "cell_type": "code",
   "execution_count": 45,
   "metadata": {},
   "outputs": [
    {
     "data": {
      "image/png": "[encoded data removed]",
      "text/plain": [
       "Plot with title \"\""
      ]
     },
     "metadata": {},
     "output_type": "display_data"
    }
   ],
   "source": [
    "par(mfrow = c(2,2))\n",
    "plot(fit_bw)"
   ]
  },
  {
   "cell_type": "markdown",
   "metadata": {},
   "source": [
    "## Model Comparision"
   ]
  },
  {
   "cell_type": "markdown",
   "metadata": {},
   "source": [
    "After building all our models, let's try to find out which one is the better one."
   ]
  },
  {
   "cell_type": "code",
   "execution_count": 46,
   "metadata": {
    "scrolled": false
   },
   "outputs": [
    {
     "name": "stderr",
     "output_type": "stream",
     "text": [
      "Warning message in predict.lm(modelFit, newdata):\n",
      "\"prediction from a rank-deficient fit may be misleading\"Warning message in predict.lm(modelFit, newdata):\n",
      "\"prediction from a rank-deficient fit may be misleading\"Warning message in predict.lm(modelFit, newdata):\n",
      "\"prediction from a rank-deficient fit may be misleading\"Warning message in predict.lm(modelFit, newdata):\n",
      "\"prediction from a rank-deficient fit may be misleading\"Warning message in predict.lm(modelFit, newdata):\n",
      "\"prediction from a rank-deficient fit may be misleading\"Warning message in predict.lm(modelFit, newdata):\n",
      "\"prediction from a rank-deficient fit may be misleading\"Warning message in predict.lm(modelFit, newdata):\n",
      "\"prediction from a rank-deficient fit may be misleading\"Warning message in predict.lm(modelFit, newdata):\n",
      "\"prediction from a rank-deficient fit may be misleading\"Warning message in predict.lm(modelFit, newdata):\n",
      "\"prediction from a rank-deficient fit may be misleading\"Warning message in predict.lm(modelFit, newdata):\n",
      "\"prediction from a rank-deficient fit may be misleading\"Warning message in predict.lm(modelFit, newdata):\n",
      "\"prediction from a rank-deficient fit may be misleading\"Warning message in predict.lm(modelFit, newdata):\n",
      "\"prediction from a rank-deficient fit may be misleading\"Warning message in predict.lm(modelFit, newdata):\n",
      "\"prediction from a rank-deficient fit may be misleading\"Warning message in predict.lm(modelFit, newdata):\n",
      "\"prediction from a rank-deficient fit may be misleading\"Warning message in predict.lm(modelFit, newdata):\n",
      "\"prediction from a rank-deficient fit may be misleading\"Warning message in predict.lm(modelFit, newdata):\n",
      "\"prediction from a rank-deficient fit may be misleading\"Warning message in predict.lm(modelFit, newdata):\n",
      "\"prediction from a rank-deficient fit may be misleading\"Warning message in predict.lm(modelFit, newdata):\n",
      "\"prediction from a rank-deficient fit may be misleading\"Warning message in predict.lm(modelFit, newdata):\n",
      "\"prediction from a rank-deficient fit may be misleading\"Warning message in predict.lm(modelFit, newdata):\n",
      "\"prediction from a rank-deficient fit may be misleading\"Warning message in predict.lm(modelFit, newdata):\n",
      "\"prediction from a rank-deficient fit may be misleading\"Warning message in predict.lm(modelFit, newdata):\n",
      "\"prediction from a rank-deficient fit may be misleading\"Warning message in predict.lm(modelFit, newdata):\n",
      "\"prediction from a rank-deficient fit may be misleading\"Warning message in predict.lm(modelFit, newdata):\n",
      "\"prediction from a rank-deficient fit may be misleading\"Warning message in predict.lm(modelFit, newdata):\n",
      "\"prediction from a rank-deficient fit may be misleading\""
     ]
    },
    {
     "data": {
      "text/html": [
       "<table>\n",
       "<thead><tr><th></th><th scope=col>coef</th><th scope=col>2.5 %</th><th scope=col>97.5 %</th></tr></thead>\n",
       "<tbody>\n",
       "\t<tr><th scope=row>(Intercept)</th><td> 0.0521018488</td><td>-0.1024903830</td><td> 0.206694081 </td></tr>\n",
       "\t<tr><th scope=row>X</th><td> 0.0023766477</td><td>-0.0006055676</td><td> 0.005358863 </td></tr>\n",
       "\t<tr><th scope=row>Y</th><td>-0.0004055401</td><td>-0.0060627521</td><td> 0.005251672 </td></tr>\n",
       "\t<tr><th scope=row>FFMC</th><td> 0.0071160217</td><td>-0.1254703929</td><td> 0.139702436 </td></tr>\n",
       "\t<tr><th scope=row>DMC</th><td> 0.0579664782</td><td> 0.0082083537</td><td> 0.107724603 </td></tr>\n",
       "\t<tr><th scope=row>DC</th><td>-0.1087313427</td><td>-0.2064257974</td><td>-0.011036888 </td></tr>\n",
       "\t<tr><th scope=row>ISI</th><td>-0.0373721365</td><td>-0.1315436671</td><td> 0.056799394 </td></tr>\n",
       "\t<tr><th scope=row>temp</th><td> 0.0362057027</td><td>-0.0270810392</td><td> 0.099492445 </td></tr>\n",
       "\t<tr><th scope=row>RH</th><td>-0.0139596820</td><td>-0.0632234148</td><td> 0.035304051 </td></tr>\n",
       "\t<tr><th scope=row>wind</th><td> 0.0177974948</td><td>-0.0137884174</td><td> 0.049383407 </td></tr>\n",
       "\t<tr><th scope=row>rain</th><td>-0.0179165296</td><td>-0.1386331109</td><td> 0.102800052 </td></tr>\n",
       "\t<tr><th scope=row>month.apr</th><td>-0.0737146854</td><td>-0.1563883682</td><td> 0.008958997 </td></tr>\n",
       "\t<tr><th scope=row>month.aug</th><td>-0.0259021376</td><td>-0.0463534467</td><td>-0.005450828 </td></tr>\n",
       "\t<tr><th scope=row>month.dec</th><td>-0.0277355399</td><td>-0.0927728996</td><td> 0.037301820 </td></tr>\n",
       "\t<tr><th scope=row>month.feb</th><td>-0.0678687886</td><td>-0.1443268970</td><td> 0.008589320 </td></tr>\n",
       "\t<tr><th scope=row>month.jan</th><td>-0.0299320410</td><td>-0.2051684907</td><td> 0.145304409 </td></tr>\n",
       "\t<tr><th scope=row>month.jul</th><td>-0.0441024678</td><td>-0.0851927033</td><td>-0.003012232 </td></tr>\n",
       "\t<tr><th scope=row>month.jun</th><td>-0.0656961111</td><td>-0.1224978751</td><td>-0.008894347 </td></tr>\n",
       "\t<tr><th scope=row>month.mar</th><td>-0.0776848851</td><td>-0.1496139660</td><td>-0.005755804 </td></tr>\n",
       "\t<tr><th scope=row>month.may</th><td>-0.0622427946</td><td>-0.1713805174</td><td> 0.046894928 </td></tr>\n",
       "\t<tr><th scope=row>month.nov</th><td>           NA</td><td>           NA</td><td>          NA </td></tr>\n",
       "\t<tr><th scope=row>month.oct</th><td>-0.0030704486</td><td>-0.0431018642</td><td> 0.036960967 </td></tr>\n",
       "\t<tr><th scope=row>month.sep</th><td>           NA</td><td>           NA</td><td>          NA </td></tr>\n",
       "\t<tr><th scope=row>day.fri</th><td>-0.0036374433</td><td>-0.0258420538</td><td> 0.018567167 </td></tr>\n",
       "\t<tr><th scope=row>day.mon</th><td> 0.0007234374</td><td>-0.0220682782</td><td> 0.023515153 </td></tr>\n",
       "\t<tr><th scope=row>day.sat</th><td> 0.0159363214</td><td>-0.0061194195</td><td> 0.037992062 </td></tr>\n",
       "\t<tr><th scope=row>day.sun</th><td> 0.0006782915</td><td>-0.0211905617</td><td> 0.022547145 </td></tr>\n",
       "\t<tr><th scope=row>day.thu</th><td> 0.0047628045</td><td>-0.0187736366</td><td> 0.028299246 </td></tr>\n",
       "\t<tr><th scope=row>day.tue</th><td> 0.0032526653</td><td>-0.0205189133</td><td> 0.027024244 </td></tr>\n",
       "\t<tr><th scope=row>day.wed</th><td>           NA</td><td>           NA</td><td>          NA </td></tr>\n",
       "</tbody>\n",
       "</table>\n"
      ],
      "text/latex": [
       "\\begin{tabular}{r|lll}\n",
       "  & coef & 2.5 \\% & 97.5 \\%\\\\\n",
       "\\hline\n",
       "\t(Intercept) &  0.0521018488 & -0.1024903830 &  0.206694081 \\\\\n",
       "\tX &  0.0023766477 & -0.0006055676 &  0.005358863 \\\\\n",
       "\tY & -0.0004055401 & -0.0060627521 &  0.005251672 \\\\\n",
       "\tFFMC &  0.0071160217 & -0.1254703929 &  0.139702436 \\\\\n",
       "\tDMC &  0.0579664782 &  0.0082083537 &  0.107724603 \\\\\n",
       "\tDC & -0.1087313427 & -0.2064257974 & -0.011036888 \\\\\n",
       "\tISI & -0.0373721365 & -0.1315436671 &  0.056799394 \\\\\n",
       "\ttemp &  0.0362057027 & -0.0270810392 &  0.099492445 \\\\\n",
       "\tRH & -0.0139596820 & -0.0632234148 &  0.035304051 \\\\\n",
       "\twind &  0.0177974948 & -0.0137884174 &  0.049383407 \\\\\n",
       "\train & -0.0179165296 & -0.1386331109 &  0.102800052 \\\\\n",
       "\tmonth.apr & -0.0737146854 & -0.1563883682 &  0.008958997 \\\\\n",
       "\tmonth.aug & -0.0259021376 & -0.0463534467 & -0.005450828 \\\\\n",
       "\tmonth.dec & -0.0277355399 & -0.0927728996 &  0.037301820 \\\\\n",
       "\tmonth.feb & -0.0678687886 & -0.1443268970 &  0.008589320 \\\\\n",
       "\tmonth.jan & -0.0299320410 & -0.2051684907 &  0.145304409 \\\\\n",
       "\tmonth.jul & -0.0441024678 & -0.0851927033 & -0.003012232 \\\\\n",
       "\tmonth.jun & -0.0656961111 & -0.1224978751 & -0.008894347 \\\\\n",
       "\tmonth.mar & -0.0776848851 & -0.1496139660 & -0.005755804 \\\\\n",
       "\tmonth.may & -0.0622427946 & -0.1713805174 &  0.046894928 \\\\\n",
       "\tmonth.nov &            NA &            NA &           NA \\\\\n",
       "\tmonth.oct & -0.0030704486 & -0.0431018642 &  0.036960967 \\\\\n",
       "\tmonth.sep &            NA &            NA &           NA \\\\\n",
       "\tday.fri & -0.0036374433 & -0.0258420538 &  0.018567167 \\\\\n",
       "\tday.mon &  0.0007234374 & -0.0220682782 &  0.023515153 \\\\\n",
       "\tday.sat &  0.0159363214 & -0.0061194195 &  0.037992062 \\\\\n",
       "\tday.sun &  0.0006782915 & -0.0211905617 &  0.022547145 \\\\\n",
       "\tday.thu &  0.0047628045 & -0.0187736366 &  0.028299246 \\\\\n",
       "\tday.tue &  0.0032526653 & -0.0205189133 &  0.027024244 \\\\\n",
       "\tday.wed &            NA &            NA &           NA \\\\\n",
       "\\end{tabular}\n"
      ],
      "text/markdown": [
       "\n",
       "| <!--/--> | coef | 2.5 % | 97.5 % |\n",
       "|---|---|---|---|\n",
       "| (Intercept) |  0.0521018488 | -0.1024903830 |  0.206694081  |\n",
       "| X |  0.0023766477 | -0.0006055676 |  0.005358863  |\n",
       "| Y | -0.0004055401 | -0.0060627521 |  0.005251672  |\n",
       "| FFMC |  0.0071160217 | -0.1254703929 |  0.139702436  |\n",
       "| DMC |  0.0579664782 |  0.0082083537 |  0.107724603  |\n",
       "| DC | -0.1087313427 | -0.2064257974 | -0.011036888  |\n",
       "| ISI | -0.0373721365 | -0.1315436671 |  0.056799394  |\n",
       "| temp |  0.0362057027 | -0.0270810392 |  0.099492445  |\n",
       "| RH | -0.0139596820 | -0.0632234148 |  0.035304051  |\n",
       "| wind |  0.0177974948 | -0.0137884174 |  0.049383407  |\n",
       "| rain | -0.0179165296 | -0.1386331109 |  0.102800052  |\n",
       "| month.apr | -0.0737146854 | -0.1563883682 |  0.008958997  |\n",
       "| month.aug | -0.0259021376 | -0.0463534467 | -0.005450828  |\n",
       "| month.dec | -0.0277355399 | -0.0927728996 |  0.037301820  |\n",
       "| month.feb | -0.0678687886 | -0.1443268970 |  0.008589320  |\n",
       "| month.jan | -0.0299320410 | -0.2051684907 |  0.145304409  |\n",
       "| month.jul | -0.0441024678 | -0.0851927033 | -0.003012232  |\n",
       "| month.jun | -0.0656961111 | -0.1224978751 | -0.008894347  |\n",
       "| month.mar | -0.0776848851 | -0.1496139660 | -0.005755804  |\n",
       "| month.may | -0.0622427946 | -0.1713805174 |  0.046894928  |\n",
       "| month.nov |            NA |            NA |           NA  |\n",
       "| month.oct | -0.0030704486 | -0.0431018642 |  0.036960967  |\n",
       "| month.sep |            NA |            NA |           NA  |\n",
       "| day.fri | -0.0036374433 | -0.0258420538 |  0.018567167  |\n",
       "| day.mon |  0.0007234374 | -0.0220682782 |  0.023515153  |\n",
       "| day.sat |  0.0159363214 | -0.0061194195 |  0.037992062  |\n",
       "| day.sun |  0.0006782915 | -0.0211905617 |  0.022547145  |\n",
       "| day.thu |  0.0047628045 | -0.0187736366 |  0.028299246  |\n",
       "| day.tue |  0.0032526653 | -0.0205189133 |  0.027024244  |\n",
       "| day.wed |            NA |            NA |           NA  |\n",
       "\n"
      ],
      "text/plain": [
       "            coef          2.5 %         97.5 %      \n",
       "(Intercept)  0.0521018488 -0.1024903830  0.206694081\n",
       "X            0.0023766477 -0.0006055676  0.005358863\n",
       "Y           -0.0004055401 -0.0060627521  0.005251672\n",
       "FFMC         0.0071160217 -0.1254703929  0.139702436\n",
       "DMC          0.0579664782  0.0082083537  0.107724603\n",
       "DC          -0.1087313427 -0.2064257974 -0.011036888\n",
       "ISI         -0.0373721365 -0.1315436671  0.056799394\n",
       "temp         0.0362057027 -0.0270810392  0.099492445\n",
       "RH          -0.0139596820 -0.0632234148  0.035304051\n",
       "wind         0.0177974948 -0.0137884174  0.049383407\n",
       "rain        -0.0179165296 -0.1386331109  0.102800052\n",
       "month.apr   -0.0737146854 -0.1563883682  0.008958997\n",
       "month.aug   -0.0259021376 -0.0463534467 -0.005450828\n",
       "month.dec   -0.0277355399 -0.0927728996  0.037301820\n",
       "month.feb   -0.0678687886 -0.1443268970  0.008589320\n",
       "month.jan   -0.0299320410 -0.2051684907  0.145304409\n",
       "month.jul   -0.0441024678 -0.0851927033 -0.003012232\n",
       "month.jun   -0.0656961111 -0.1224978751 -0.008894347\n",
       "month.mar   -0.0776848851 -0.1496139660 -0.005755804\n",
       "month.may   -0.0622427946 -0.1713805174  0.046894928\n",
       "month.nov              NA            NA           NA\n",
       "month.oct   -0.0030704486 -0.0431018642  0.036960967\n",
       "month.sep              NA            NA           NA\n",
       "day.fri     -0.0036374433 -0.0258420538  0.018567167\n",
       "day.mon      0.0007234374 -0.0220682782  0.023515153\n",
       "day.sat      0.0159363214 -0.0061194195  0.037992062\n",
       "day.sun      0.0006782915 -0.0211905617  0.022547145\n",
       "day.thu      0.0047628045 -0.0187736366  0.028299246\n",
       "day.tue      0.0032526653 -0.0205189133  0.027024244\n",
       "day.wed                NA            NA           NA"
      ]
     },
     "metadata": {},
     "output_type": "display_data"
    },
    {
     "name": "stderr",
     "output_type": "stream",
     "text": [
      "Warning message in predict.lm(modelFit, newdata):\n",
      "\"prediction from a rank-deficient fit may be misleading\"Warning message in predict.lm(modelFit, newdata):\n",
      "\"prediction from a rank-deficient fit may be misleading\"Warning message in predict.lm(modelFit, newdata):\n",
      "\"prediction from a rank-deficient fit may be misleading\"Warning message in predict.lm(modelFit, newdata):\n",
      "\"prediction from a rank-deficient fit may be misleading\"Warning message in predict.lm(modelFit, newdata):\n",
      "\"prediction from a rank-deficient fit may be misleading\"Warning message in predict.lm(modelFit, newdata):\n",
      "\"prediction from a rank-deficient fit may be misleading\"Warning message in predict.lm(modelFit, newdata):\n",
      "\"prediction from a rank-deficient fit may be misleading\"Warning message in predict.lm(modelFit, newdata):\n",
      "\"prediction from a rank-deficient fit may be misleading\"Warning message in predict.lm(modelFit, newdata):\n",
      "\"prediction from a rank-deficient fit may be misleading\"Warning message in predict.lm(modelFit, newdata):\n",
      "\"prediction from a rank-deficient fit may be misleading\"Warning message in predict.lm(modelFit, newdata):\n",
      "\"prediction from a rank-deficient fit may be misleading\"Warning message in predict.lm(modelFit, newdata):\n",
      "\"prediction from a rank-deficient fit may be misleading\"Warning message in predict.lm(modelFit, newdata):\n",
      "\"prediction from a rank-deficient fit may be misleading\"Warning message in predict.lm(modelFit, newdata):\n",
      "\"prediction from a rank-deficient fit may be misleading\"Warning message in predict.lm(modelFit, newdata):\n",
      "\"prediction from a rank-deficient fit may be misleading\"Warning message in predict.lm(modelFit, newdata):\n",
      "\"prediction from a rank-deficient fit may be misleading\"Warning message in predict.lm(modelFit, newdata):\n",
      "\"prediction from a rank-deficient fit may be misleading\"Warning message in predict.lm(modelFit, newdata):\n",
      "\"prediction from a rank-deficient fit may be misleading\"Warning message in predict.lm(modelFit, newdata):\n",
      "\"prediction from a rank-deficient fit may be misleading\"Warning message in predict.lm(modelFit, newdata):\n",
      "\"prediction from a rank-deficient fit may be misleading\"Warning message in predict.lm(modelFit, newdata):\n",
      "\"prediction from a rank-deficient fit may be misleading\"Warning message in predict.lm(modelFit, newdata):\n",
      "\"prediction from a rank-deficient fit may be misleading\"Warning message in predict.lm(modelFit, newdata):\n",
      "\"prediction from a rank-deficient fit may be misleading\"Warning message in predict.lm(modelFit, newdata):\n",
      "\"prediction from a rank-deficient fit may be misleading\"Warning message in predict.lm(modelFit, newdata):\n",
      "\"prediction from a rank-deficient fit may be misleading\""
     ]
    },
    {
     "data": {
      "text/html": [
       "<table>\n",
       "<thead><tr><th></th><th scope=col>coef</th><th scope=col>2.5 %</th><th scope=col>97.5 %</th></tr></thead>\n",
       "<tbody>\n",
       "\t<tr><th scope=row>(Intercept)</th><td>-0.0068882805</td><td>-0.1660238744</td><td> 0.152247313 </td></tr>\n",
       "\t<tr><th scope=row>X</th><td> 0.0023766477</td><td>-0.0006055676</td><td> 0.005358863 </td></tr>\n",
       "\t<tr><th scope=row>Y</th><td>-0.0004055401</td><td>-0.0060627521</td><td> 0.005251672 </td></tr>\n",
       "\t<tr><th scope=row>FFMC</th><td> 0.0071160217</td><td>-0.1254703929</td><td> 0.139702436 </td></tr>\n",
       "\t<tr><th scope=row>DMC</th><td> 0.0579664782</td><td> 0.0082083537</td><td> 0.107724603 </td></tr>\n",
       "\t<tr><th scope=row>DC</th><td>-0.1087313427</td><td>-0.2064257974</td><td>-0.011036888 </td></tr>\n",
       "\t<tr><th scope=row>ISI</th><td>-0.0373721365</td><td>-0.1315436671</td><td> 0.056799394 </td></tr>\n",
       "\t<tr><th scope=row>temp</th><td> 0.0362057027</td><td>-0.0270810392</td><td> 0.099492445 </td></tr>\n",
       "\t<tr><th scope=row>RH</th><td>-0.0139596820</td><td>-0.0632234148</td><td> 0.035304051 </td></tr>\n",
       "\t<tr><th scope=row>wind</th><td> 0.0177974948</td><td>-0.0137884174</td><td> 0.049383407 </td></tr>\n",
       "\t<tr><th scope=row>rain</th><td>-0.0179165296</td><td>-0.1386331109</td><td> 0.102800052 </td></tr>\n",
       "\t<tr><th scope=row>month.apr</th><td>-0.0114718908</td><td>-0.1079899780</td><td> 0.085046196 </td></tr>\n",
       "\t<tr><th scope=row>month.aug</th><td> 0.0363406570</td><td>-0.0662646644</td><td> 0.138945978 </td></tr>\n",
       "\t<tr><th scope=row>month.dec</th><td> 0.0345072547</td><td>-0.0719424574</td><td> 0.140956967 </td></tr>\n",
       "\t<tr><th scope=row>month.feb</th><td>-0.0056259940</td><td>-0.0972605988</td><td> 0.086008611 </td></tr>\n",
       "\t<tr><th scope=row>month.jan</th><td> 0.0323107536</td><td>-0.1543528400</td><td> 0.218974347 </td></tr>\n",
       "\t<tr><th scope=row>month.jul</th><td> 0.0181403268</td><td>-0.0778964942</td><td> 0.114177148 </td></tr>\n",
       "\t<tr><th scope=row>month.jun</th><td>-0.0034533165</td><td>-0.0975676879</td><td> 0.090661055 </td></tr>\n",
       "\t<tr><th scope=row>month.mar</th><td>-0.0154420905</td><td>-0.1051018833</td><td> 0.074217702 </td></tr>\n",
       "\t<tr><th scope=row>month.nov</th><td>           NA</td><td>           NA</td><td>          NA </td></tr>\n",
       "\t<tr><th scope=row>month.oct</th><td> 0.0591723460</td><td>-0.0561264367</td><td> 0.174471129 </td></tr>\n",
       "\t<tr><th scope=row>month.sep</th><td> 0.0622427946</td><td>-0.0468949282</td><td> 0.171380517 </td></tr>\n",
       "\t<tr><th scope=row>day.fri</th><td>-0.0068901085</td><td>-0.0287406769</td><td> 0.014960460 </td></tr>\n",
       "\t<tr><th scope=row>day.mon</th><td>-0.0025292278</td><td>-0.0251706529</td><td> 0.020112197 </td></tr>\n",
       "\t<tr><th scope=row>day.sat</th><td> 0.0126836561</td><td>-0.0091809049</td><td> 0.034548217 </td></tr>\n",
       "\t<tr><th scope=row>day.sun</th><td>-0.0025743738</td><td>-0.0241956394</td><td> 0.019046892 </td></tr>\n",
       "\t<tr><th scope=row>day.thu</th><td> 0.0015101393</td><td>-0.0221565036</td><td> 0.025176782 </td></tr>\n",
       "\t<tr><th scope=row>day.wed</th><td>-0.0032526653</td><td>-0.0270242438</td><td> 0.020518913 </td></tr>\n",
       "</tbody>\n",
       "</table>\n"
      ],
      "text/latex": [
       "\\begin{tabular}{r|lll}\n",
       "  & coef & 2.5 \\% & 97.5 \\%\\\\\n",
       "\\hline\n",
       "\t(Intercept) & -0.0068882805 & -0.1660238744 &  0.152247313 \\\\\n",
       "\tX &  0.0023766477 & -0.0006055676 &  0.005358863 \\\\\n",
       "\tY & -0.0004055401 & -0.0060627521 &  0.005251672 \\\\\n",
       "\tFFMC &  0.0071160217 & -0.1254703929 &  0.139702436 \\\\\n",
       "\tDMC &  0.0579664782 &  0.0082083537 &  0.107724603 \\\\\n",
       "\tDC & -0.1087313427 & -0.2064257974 & -0.011036888 \\\\\n",
       "\tISI & -0.0373721365 & -0.1315436671 &  0.056799394 \\\\\n",
       "\ttemp &  0.0362057027 & -0.0270810392 &  0.099492445 \\\\\n",
       "\tRH & -0.0139596820 & -0.0632234148 &  0.035304051 \\\\\n",
       "\twind &  0.0177974948 & -0.0137884174 &  0.049383407 \\\\\n",
       "\train & -0.0179165296 & -0.1386331109 &  0.102800052 \\\\\n",
       "\tmonth.apr & -0.0114718908 & -0.1079899780 &  0.085046196 \\\\\n",
       "\tmonth.aug &  0.0363406570 & -0.0662646644 &  0.138945978 \\\\\n",
       "\tmonth.dec &  0.0345072547 & -0.0719424574 &  0.140956967 \\\\\n",
       "\tmonth.feb & -0.0056259940 & -0.0972605988 &  0.086008611 \\\\\n",
       "\tmonth.jan &  0.0323107536 & -0.1543528400 &  0.218974347 \\\\\n",
       "\tmonth.jul &  0.0181403268 & -0.0778964942 &  0.114177148 \\\\\n",
       "\tmonth.jun & -0.0034533165 & -0.0975676879 &  0.090661055 \\\\\n",
       "\tmonth.mar & -0.0154420905 & -0.1051018833 &  0.074217702 \\\\\n",
       "\tmonth.nov &            NA &            NA &           NA \\\\\n",
       "\tmonth.oct &  0.0591723460 & -0.0561264367 &  0.174471129 \\\\\n",
       "\tmonth.sep &  0.0622427946 & -0.0468949282 &  0.171380517 \\\\\n",
       "\tday.fri & -0.0068901085 & -0.0287406769 &  0.014960460 \\\\\n",
       "\tday.mon & -0.0025292278 & -0.0251706529 &  0.020112197 \\\\\n",
       "\tday.sat &  0.0126836561 & -0.0091809049 &  0.034548217 \\\\\n",
       "\tday.sun & -0.0025743738 & -0.0241956394 &  0.019046892 \\\\\n",
       "\tday.thu &  0.0015101393 & -0.0221565036 &  0.025176782 \\\\\n",
       "\tday.wed & -0.0032526653 & -0.0270242438 &  0.020518913 \\\\\n",
       "\\end{tabular}\n"
      ],
      "text/markdown": [
       "\n",
       "| <!--/--> | coef | 2.5 % | 97.5 % |\n",
       "|---|---|---|---|\n",
       "| (Intercept) | -0.0068882805 | -0.1660238744 |  0.152247313  |\n",
       "| X |  0.0023766477 | -0.0006055676 |  0.005358863  |\n",
       "| Y | -0.0004055401 | -0.0060627521 |  0.005251672  |\n",
       "| FFMC |  0.0071160217 | -0.1254703929 |  0.139702436  |\n",
       "| DMC |  0.0579664782 |  0.0082083537 |  0.107724603  |\n",
       "| DC | -0.1087313427 | -0.2064257974 | -0.011036888  |\n",
       "| ISI | -0.0373721365 | -0.1315436671 |  0.056799394  |\n",
       "| temp |  0.0362057027 | -0.0270810392 |  0.099492445  |\n",
       "| RH | -0.0139596820 | -0.0632234148 |  0.035304051  |\n",
       "| wind |  0.0177974948 | -0.0137884174 |  0.049383407  |\n",
       "| rain | -0.0179165296 | -0.1386331109 |  0.102800052  |\n",
       "| month.apr | -0.0114718908 | -0.1079899780 |  0.085046196  |\n",
       "| month.aug |  0.0363406570 | -0.0662646644 |  0.138945978  |\n",
       "| month.dec |  0.0345072547 | -0.0719424574 |  0.140956967  |\n",
       "| month.feb | -0.0056259940 | -0.0972605988 |  0.086008611  |\n",
       "| month.jan |  0.0323107536 | -0.1543528400 |  0.218974347  |\n",
       "| month.jul |  0.0181403268 | -0.0778964942 |  0.114177148  |\n",
       "| month.jun | -0.0034533165 | -0.0975676879 |  0.090661055  |\n",
       "| month.mar | -0.0154420905 | -0.1051018833 |  0.074217702  |\n",
       "| month.nov |            NA |            NA |           NA  |\n",
       "| month.oct |  0.0591723460 | -0.0561264367 |  0.174471129  |\n",
       "| month.sep |  0.0622427946 | -0.0468949282 |  0.171380517  |\n",
       "| day.fri | -0.0068901085 | -0.0287406769 |  0.014960460  |\n",
       "| day.mon | -0.0025292278 | -0.0251706529 |  0.020112197  |\n",
       "| day.sat |  0.0126836561 | -0.0091809049 |  0.034548217  |\n",
       "| day.sun | -0.0025743738 | -0.0241956394 |  0.019046892  |\n",
       "| day.thu |  0.0015101393 | -0.0221565036 |  0.025176782  |\n",
       "| day.wed | -0.0032526653 | -0.0270242438 |  0.020518913  |\n",
       "\n"
      ],
      "text/plain": [
       "            coef          2.5 %         97.5 %      \n",
       "(Intercept) -0.0068882805 -0.1660238744  0.152247313\n",
       "X            0.0023766477 -0.0006055676  0.005358863\n",
       "Y           -0.0004055401 -0.0060627521  0.005251672\n",
       "FFMC         0.0071160217 -0.1254703929  0.139702436\n",
       "DMC          0.0579664782  0.0082083537  0.107724603\n",
       "DC          -0.1087313427 -0.2064257974 -0.011036888\n",
       "ISI         -0.0373721365 -0.1315436671  0.056799394\n",
       "temp         0.0362057027 -0.0270810392  0.099492445\n",
       "RH          -0.0139596820 -0.0632234148  0.035304051\n",
       "wind         0.0177974948 -0.0137884174  0.049383407\n",
       "rain        -0.0179165296 -0.1386331109  0.102800052\n",
       "month.apr   -0.0114718908 -0.1079899780  0.085046196\n",
       "month.aug    0.0363406570 -0.0662646644  0.138945978\n",
       "month.dec    0.0345072547 -0.0719424574  0.140956967\n",
       "month.feb   -0.0056259940 -0.0972605988  0.086008611\n",
       "month.jan    0.0323107536 -0.1543528400  0.218974347\n",
       "month.jul    0.0181403268 -0.0778964942  0.114177148\n",
       "month.jun   -0.0034533165 -0.0975676879  0.090661055\n",
       "month.mar   -0.0154420905 -0.1051018833  0.074217702\n",
       "month.nov              NA            NA           NA\n",
       "month.oct    0.0591723460 -0.0561264367  0.174471129\n",
       "month.sep    0.0622427946 -0.0468949282  0.171380517\n",
       "day.fri     -0.0068901085 -0.0287406769  0.014960460\n",
       "day.mon     -0.0025292278 -0.0251706529  0.020112197\n",
       "day.sat      0.0126836561 -0.0091809049  0.034548217\n",
       "day.sun     -0.0025743738 -0.0241956394  0.019046892\n",
       "day.thu      0.0015101393 -0.0221565036  0.025176782\n",
       "day.wed     -0.0032526653 -0.0270242438  0.020518913"
      ]
     },
     "metadata": {},
     "output_type": "display_data"
    },
    {
     "data": {
      "text/html": [
       "<table>\n",
       "<thead><tr><th></th><th scope=col>coef</th><th scope=col>2.5 %</th><th scope=col>97.5 %</th></tr></thead>\n",
       "<tbody>\n",
       "\t<tr><th scope=row>(Intercept)</th><td>-0.016732358 </td><td>-0.0425843276</td><td>0.009119611  </td></tr>\n",
       "\t<tr><th scope=row>X</th><td> 0.001756345 </td><td>-0.0006285375</td><td>0.004141227  </td></tr>\n",
       "\t<tr><th scope=row>temp</th><td> 0.034909964 </td><td> 0.0048057045</td><td>0.065014224  </td></tr>\n",
       "\t<tr><th scope=row>wind</th><td> 0.012549708 </td><td>-0.0159853764</td><td>0.041084793  </td></tr>\n",
       "\t<tr><th scope=row>day.fri</th><td>-0.009260207 </td><td>-0.0247350941</td><td>0.006214680  </td></tr>\n",
       "\t<tr><th scope=row>day.sun</th><td>-0.004875414 </td><td>-0.0198378584</td><td>0.010087031  </td></tr>\n",
       "</tbody>\n",
       "</table>\n"
      ],
      "text/latex": [
       "\\begin{tabular}{r|lll}\n",
       "  & coef & 2.5 \\% & 97.5 \\%\\\\\n",
       "\\hline\n",
       "\t(Intercept) & -0.016732358  & -0.0425843276 & 0.009119611  \\\\\n",
       "\tX &  0.001756345  & -0.0006285375 & 0.004141227  \\\\\n",
       "\ttemp &  0.034909964  &  0.0048057045 & 0.065014224  \\\\\n",
       "\twind &  0.012549708  & -0.0159853764 & 0.041084793  \\\\\n",
       "\tday.fri & -0.009260207  & -0.0247350941 & 0.006214680  \\\\\n",
       "\tday.sun & -0.004875414  & -0.0198378584 & 0.010087031  \\\\\n",
       "\\end{tabular}\n"
      ],
      "text/markdown": [
       "\n",
       "| <!--/--> | coef | 2.5 % | 97.5 % |\n",
       "|---|---|---|---|\n",
       "| (Intercept) | -0.016732358  | -0.0425843276 | 0.009119611   |\n",
       "| X |  0.001756345  | -0.0006285375 | 0.004141227   |\n",
       "| temp |  0.034909964  |  0.0048057045 | 0.065014224   |\n",
       "| wind |  0.012549708  | -0.0159853764 | 0.041084793   |\n",
       "| day.fri | -0.009260207  | -0.0247350941 | 0.006214680   |\n",
       "| day.sun | -0.004875414  | -0.0198378584 | 0.010087031   |\n",
       "\n"
      ],
      "text/plain": [
       "            coef         2.5 %         97.5 %     \n",
       "(Intercept) -0.016732358 -0.0425843276 0.009119611\n",
       "X            0.001756345 -0.0006285375 0.004141227\n",
       "temp         0.034909964  0.0048057045 0.065014224\n",
       "wind         0.012549708 -0.0159853764 0.041084793\n",
       "day.fri     -0.009260207 -0.0247350941 0.006214680\n",
       "day.sun     -0.004875414 -0.0198378584 0.010087031"
      ]
     },
     "metadata": {},
     "output_type": "display_data"
    },
    {
     "data": {
      "text/html": [
       "<table>\n",
       "<thead><tr><th></th><th scope=col>coef</th><th scope=col>2.5 %</th><th scope=col>97.5 %</th></tr></thead>\n",
       "<tbody>\n",
       "\t<tr><th scope=row>(Intercept)</th><td>-0.015907821 </td><td>-0.0371177272</td><td>0.005302086  </td></tr>\n",
       "\t<tr><th scope=row>X</th><td> 0.001869822 </td><td>-0.0005116746</td><td>0.004251319  </td></tr>\n",
       "\t<tr><th scope=row>DMC</th><td> 0.019573895 </td><td>-0.0116039993</td><td>0.050751789  </td></tr>\n",
       "\t<tr><th scope=row>temp</th><td> 0.030023923 </td><td>-0.0034920342</td><td>0.063539880  </td></tr>\n",
       "\t<tr><th scope=row>month.aug</th><td>-0.008504344 </td><td>-0.0220350685</td><td>0.005026380  </td></tr>\n",
       "\t<tr><th scope=row>day.sun</th><td>-0.002463189 </td><td>-0.0170763100</td><td>0.012149932  </td></tr>\n",
       "</tbody>\n",
       "</table>\n"
      ],
      "text/latex": [
       "\\begin{tabular}{r|lll}\n",
       "  & coef & 2.5 \\% & 97.5 \\%\\\\\n",
       "\\hline\n",
       "\t(Intercept) & -0.015907821  & -0.0371177272 & 0.005302086  \\\\\n",
       "\tX &  0.001869822  & -0.0005116746 & 0.004251319  \\\\\n",
       "\tDMC &  0.019573895  & -0.0116039993 & 0.050751789  \\\\\n",
       "\ttemp &  0.030023923  & -0.0034920342 & 0.063539880  \\\\\n",
       "\tmonth.aug & -0.008504344  & -0.0220350685 & 0.005026380  \\\\\n",
       "\tday.sun & -0.002463189  & -0.0170763100 & 0.012149932  \\\\\n",
       "\\end{tabular}\n"
      ],
      "text/markdown": [
       "\n",
       "| <!--/--> | coef | 2.5 % | 97.5 % |\n",
       "|---|---|---|---|\n",
       "| (Intercept) | -0.015907821  | -0.0371177272 | 0.005302086   |\n",
       "| X |  0.001869822  | -0.0005116746 | 0.004251319   |\n",
       "| DMC |  0.019573895  | -0.0116039993 | 0.050751789   |\n",
       "| temp |  0.030023923  | -0.0034920342 | 0.063539880   |\n",
       "| month.aug | -0.008504344  | -0.0220350685 | 0.005026380   |\n",
       "| day.sun | -0.002463189  | -0.0170763100 | 0.012149932   |\n",
       "\n"
      ],
      "text/plain": [
       "            coef         2.5 %         97.5 %     \n",
       "(Intercept) -0.015907821 -0.0371177272 0.005302086\n",
       "X            0.001869822 -0.0005116746 0.004251319\n",
       "DMC          0.019573895 -0.0116039993 0.050751789\n",
       "temp         0.030023923 -0.0034920342 0.063539880\n",
       "month.aug   -0.008504344 -0.0220350685 0.005026380\n",
       "day.sun     -0.002463189 -0.0170763100 0.012149932"
      ]
     },
     "metadata": {},
     "output_type": "display_data"
    }
   ],
   "source": [
    "lm.lm <- train(area~., data=training, method='lm')\n",
    "cbind(coef= coef(lm.lm$finalModel), confint(lm.lm$finalModel))\n",
    "lm.lasso <- train(area~., data=lasso_df_train, method='lm')\n",
    "cbind(coef= coef(lm.lasso$finalModel), confint(lm.lasso$finalModel))\n",
    "lm.fwd <- train(area~., data=fwd_df_train, method='lm')\n",
    "cbind(coef= coef(lm.fwd$finalModel), confint(lm.fwd$finalModel))\n",
    "lm.bw <- train(area~., data=bw_df_train, method='lm')\n",
    "cbind(coef= coef(lm.bw$finalModel), confint(lm.bw$finalModel))"
   ]
  },
  {
   "cell_type": "code",
   "execution_count": 47,
   "metadata": {
    "scrolled": false
   },
   "outputs": [
    {
     "data": {
      "text/plain": [
       "\n",
       "Call:\n",
       "lm(formula = .outcome ~ ., data = dat)\n",
       "\n",
       "Residuals:\n",
       "     Min       1Q   Median       3Q      Max \n",
       "-0.05605 -0.01753 -0.00644  0.00474  0.94789 \n",
       "\n",
       "Coefficients: (1 not defined because of singularities)\n",
       "              Estimate Std. Error t value Pr(>|t|)  \n",
       "(Intercept) -0.0068883  0.0809698  -0.085   0.9322  \n",
       "X            0.0023766  0.0015174   1.566   0.1180  \n",
       "Y           -0.0004055  0.0028784  -0.141   0.8880  \n",
       "FFMC         0.0071160  0.0674613   0.105   0.9160  \n",
       "DMC          0.0579665  0.0253174   2.290   0.0225 *\n",
       "DC          -0.1087313  0.0497079  -2.187   0.0292 *\n",
       "ISI         -0.0373721  0.0479154  -0.780   0.4358  \n",
       "temp         0.0362057  0.0322009   1.124   0.2615  \n",
       "RH          -0.0139597  0.0250659  -0.557   0.5779  \n",
       "wind         0.0177975  0.0160712   1.107   0.2687  \n",
       "rain        -0.0179165  0.0614218  -0.292   0.7707  \n",
       "month.apr   -0.0114719  0.0491094  -0.234   0.8154  \n",
       "month.aug    0.0363407  0.0522066   0.696   0.4867  \n",
       "month.dec    0.0345073  0.0541627   0.637   0.5244  \n",
       "month.feb   -0.0056260  0.0466246  -0.121   0.9040  \n",
       "month.jan    0.0323108  0.0949763   0.340   0.7339  \n",
       "month.jul    0.0181403  0.0488645   0.371   0.7106  \n",
       "month.jun   -0.0034533  0.0478863  -0.072   0.9425  \n",
       "month.mar   -0.0154421  0.0456198  -0.338   0.7352  \n",
       "month.nov           NA         NA      NA       NA  \n",
       "month.oct    0.0591723  0.0586652   1.009   0.3137  \n",
       "month.sep    0.0622428  0.0555304   1.121   0.2630  \n",
       "day.fri     -0.0068901  0.0111178  -0.620   0.5358  \n",
       "day.mon     -0.0025292  0.0115202  -0.220   0.8263  \n",
       "day.sat      0.0126837  0.0111249   1.140   0.2549  \n",
       "day.sun     -0.0025744  0.0110011  -0.234   0.8151  \n",
       "day.thu      0.0015101  0.0120418   0.125   0.9003  \n",
       "day.wed     -0.0032527  0.0120952  -0.269   0.7881  \n",
       "---\n",
       "Signif. codes:  0 '***' 0.001 '**' 0.01 '*' 0.05 '.' 0.1 ' ' 1\n",
       "\n",
       "Residual standard error: 0.06148 on 440 degrees of freedom\n",
       "Multiple R-squared:  0.04924,\tAdjusted R-squared:  -0.006941 \n",
       "F-statistic: 0.8765 on 26 and 440 DF,  p-value: 0.6432\n"
      ]
     },
     "metadata": {},
     "output_type": "display_data"
    },
    {
     "data": {
      "text/plain": [
       "\n",
       "Call:\n",
       "lm(formula = .outcome ~ ., data = dat)\n",
       "\n",
       "Residuals:\n",
       "     Min       1Q   Median       3Q      Max \n",
       "-0.03375 -0.01530 -0.00903 -0.00060  0.97547 \n",
       "\n",
       "Coefficients:\n",
       "             Estimate Std. Error t value Pr(>|t|)  \n",
       "(Intercept) -0.016732   0.013155  -1.272   0.2040  \n",
       "X            0.001756   0.001214   1.447   0.1485  \n",
       "temp         0.034910   0.015319   2.279   0.0231 *\n",
       "wind         0.012550   0.014521   0.864   0.3879  \n",
       "day.fri     -0.009260   0.007875  -1.176   0.2402  \n",
       "day.sun     -0.004875   0.007614  -0.640   0.5223  \n",
       "---\n",
       "Signif. codes:  0 '***' 0.001 '**' 0.01 '*' 0.05 '.' 0.1 ' ' 1\n",
       "\n",
       "Residual standard error: 0.06102 on 461 degrees of freedom\n",
       "Multiple R-squared:  0.01901,\tAdjusted R-squared:  0.008369 \n",
       "F-statistic: 1.787 on 5 and 461 DF,  p-value: 0.1141\n"
      ]
     },
     "metadata": {},
     "output_type": "display_data"
    },
    {
     "data": {
      "text/plain": [
       "\n",
       "Call:\n",
       "lm(formula = .outcome ~ ., data = dat)\n",
       "\n",
       "Residuals:\n",
       "     Min       1Q   Median       3Q      Max \n",
       "-0.03465 -0.01545 -0.00881 -0.00119  0.97449 \n",
       "\n",
       "Coefficients:\n",
       "             Estimate Std. Error t value Pr(>|t|)  \n",
       "(Intercept) -0.015908   0.010793  -1.474    0.141  \n",
       "X            0.001870   0.001212   1.543    0.124  \n",
       "DMC          0.019574   0.015866   1.234    0.218  \n",
       "temp         0.030024   0.017055   1.760    0.079 .\n",
       "month.aug   -0.008504   0.006885  -1.235    0.217  \n",
       "day.sun     -0.002463   0.007436  -0.331    0.741  \n",
       "---\n",
       "Signif. codes:  0 '***' 0.001 '**' 0.01 '*' 0.05 '.' 0.1 ' ' 1\n",
       "\n",
       "Residual standard error: 0.061 on 461 degrees of freedom\n",
       "Multiple R-squared:  0.01961,\tAdjusted R-squared:  0.008976 \n",
       "F-statistic: 1.844 on 5 and 461 DF,  p-value: 0.1029\n"
      ]
     },
     "metadata": {},
     "output_type": "display_data"
    }
   ],
   "source": [
    "#summary (lm.lm)\n",
    "summary (lm.lasso)\n",
    "summary (lm.fwd)\n",
    "summary (lm.bw)"
   ]
  },
  {
   "cell_type": "markdown",
   "metadata": {},
   "source": [
    "### Calculating Prediction Accurancy and Error rates"
   ]
  },
  {
   "cell_type": "markdown",
   "metadata": {},
   "source": [
    "#### Linear Regression with all variables"
   ]
  },
  {
   "cell_type": "code",
   "execution_count": 48,
   "metadata": {
    "scrolled": false
   },
   "outputs": [
    {
     "name": "stderr",
     "output_type": "stream",
     "text": [
      "Warning message in predict.lm(fit_lm, test):\n",
      "\"prediction from a rank-deficient fit may be misleading\""
     ]
    },
    {
     "data": {
      "text/html": [
       "<table>\n",
       "<thead><tr><th></th><th scope=col>actuals</th><th scope=col>predicteds</th></tr></thead>\n",
       "<tbody>\n",
       "\t<tr><th scope=row>3</th><td>0           </td><td> 0.017306962</td></tr>\n",
       "\t<tr><th scope=row>5</th><td>0           </td><td>-0.010551458</td></tr>\n",
       "\t<tr><th scope=row>21</th><td>0           </td><td> 0.027491724</td></tr>\n",
       "\t<tr><th scope=row>22</th><td>0           </td><td> 0.008224251</td></tr>\n",
       "\t<tr><th scope=row>25</th><td>0           </td><td> 0.036274887</td></tr>\n",
       "\t<tr><th scope=row>33</th><td>0           </td><td> 0.009221179</td></tr>\n",
       "</tbody>\n",
       "</table>\n"
      ],
      "text/latex": [
       "\\begin{tabular}{r|ll}\n",
       "  & actuals & predicteds\\\\\n",
       "\\hline\n",
       "\t3 & 0            &  0.017306962\\\\\n",
       "\t5 & 0            & -0.010551458\\\\\n",
       "\t21 & 0            &  0.027491724\\\\\n",
       "\t22 & 0            &  0.008224251\\\\\n",
       "\t25 & 0            &  0.036274887\\\\\n",
       "\t33 & 0            &  0.009221179\\\\\n",
       "\\end{tabular}\n"
      ],
      "text/markdown": [
       "\n",
       "| <!--/--> | actuals | predicteds |\n",
       "|---|---|---|\n",
       "| 3 | 0            |  0.017306962 |\n",
       "| 5 | 0            | -0.010551458 |\n",
       "| 21 | 0            |  0.027491724 |\n",
       "| 22 | 0            |  0.008224251 |\n",
       "| 25 | 0            |  0.036274887 |\n",
       "| 33 | 0            |  0.009221179 |\n",
       "\n"
      ],
      "text/plain": [
       "   actuals predicteds  \n",
       "3  0        0.017306962\n",
       "5  0       -0.010551458\n",
       "21 0        0.027491724\n",
       "22 0        0.008224251\n",
       "25 0        0.036274887\n",
       "33 0        0.009221179"
      ]
     },
     "metadata": {},
     "output_type": "display_data"
    }
   ],
   "source": [
    "lm_predict = predict(fit_lm, test)\n",
    "lm_actuals_preds = data.frame(cbind(actuals=test$area, predicteds=lm_predict))\n",
    "# make actuals_predicteds dataframe.\n",
    "lm_correlation_accuracy = cor(lm_actuals_preds)\n",
    "head(lm_actuals_preds)"
   ]
  },
  {
   "cell_type": "code",
   "execution_count": 49,
   "metadata": {},
   "outputs": [
    {
     "name": "stderr",
     "output_type": "stream",
     "text": [
      "Registered S3 method overwritten by 'xts':\n",
      "  method     from\n",
      "  as.zoo.xts zoo \n",
      "Registered S3 method overwritten by 'quantmod':\n",
      "  method            from\n",
      "  as.zoo.data.frame zoo \n"
     ]
    },
    {
     "data": {
      "text/html": [
       "<dl class=dl-horizontal>\n",
       "\t<dt>mae</dt>\n",
       "\t\t<dd>0.015906957594582</dd>\n",
       "\t<dt>mse</dt>\n",
       "\t\t<dd>0.000445116838127024</dd>\n",
       "\t<dt>rmse</dt>\n",
       "\t\t<dd>0.0210977922571776</dd>\n",
       "\t<dt>mape</dt>\n",
       "\t\t<dd>Inf</dd>\n",
       "</dl>\n"
      ],
      "text/latex": [
       "\\begin{description*}\n",
       "\\item[mae] 0.015906957594582\n",
       "\\item[mse] 0.000445116838127024\n",
       "\\item[rmse] 0.0210977922571776\n",
       "\\item[mape] Inf\n",
       "\\end{description*}\n"
      ],
      "text/markdown": [
       "mae\n",
       ":   0.015906957594582mse\n",
       ":   0.000445116838127024rmse\n",
       ":   0.0210977922571776mape\n",
       ":   Inf\n",
       "\n"
      ],
      "text/plain": [
       "         mae          mse         rmse         mape \n",
       "0.0159069576 0.0004451168 0.0210977923          Inf "
      ]
     },
     "metadata": {},
     "output_type": "display_data"
    }
   ],
   "source": [
    "DMwR::regr.eval(lm_actuals_preds$actuals, lm_actuals_preds$predicteds)"
   ]
  },
  {
   "cell_type": "markdown",
   "metadata": {},
   "source": [
    "#### Linear regression with Lasso feature selection"
   ]
  },
  {
   "cell_type": "code",
   "execution_count": 50,
   "metadata": {
    "scrolled": true
   },
   "outputs": [
    {
     "name": "stderr",
     "output_type": "stream",
     "text": [
      "Warning message in predict.lm(fit_lasso, lasso_df_test):\n",
      "\"prediction from a rank-deficient fit may be misleading\""
     ]
    },
    {
     "data": {
      "text/html": [
       "<table>\n",
       "<thead><tr><th></th><th scope=col>actuals</th><th scope=col>predicteds</th></tr></thead>\n",
       "<tbody>\n",
       "\t<tr><th scope=row>3</th><td>0           </td><td> 0.017306962</td></tr>\n",
       "\t<tr><th scope=row>5</th><td>0           </td><td>-0.010551458</td></tr>\n",
       "\t<tr><th scope=row>21</th><td>0           </td><td> 0.027491724</td></tr>\n",
       "\t<tr><th scope=row>22</th><td>0           </td><td> 0.008224251</td></tr>\n",
       "\t<tr><th scope=row>25</th><td>0           </td><td> 0.036274887</td></tr>\n",
       "\t<tr><th scope=row>33</th><td>0           </td><td> 0.009221179</td></tr>\n",
       "</tbody>\n",
       "</table>\n"
      ],
      "text/latex": [
       "\\begin{tabular}{r|ll}\n",
       "  & actuals & predicteds\\\\\n",
       "\\hline\n",
       "\t3 & 0            &  0.017306962\\\\\n",
       "\t5 & 0            & -0.010551458\\\\\n",
       "\t21 & 0            &  0.027491724\\\\\n",
       "\t22 & 0            &  0.008224251\\\\\n",
       "\t25 & 0            &  0.036274887\\\\\n",
       "\t33 & 0            &  0.009221179\\\\\n",
       "\\end{tabular}\n"
      ],
      "text/markdown": [
       "\n",
       "| <!--/--> | actuals | predicteds |\n",
       "|---|---|---|\n",
       "| 3 | 0            |  0.017306962 |\n",
       "| 5 | 0            | -0.010551458 |\n",
       "| 21 | 0            |  0.027491724 |\n",
       "| 22 | 0            |  0.008224251 |\n",
       "| 25 | 0            |  0.036274887 |\n",
       "| 33 | 0            |  0.009221179 |\n",
       "\n"
      ],
      "text/plain": [
       "   actuals predicteds  \n",
       "3  0        0.017306962\n",
       "5  0       -0.010551458\n",
       "21 0        0.027491724\n",
       "22 0        0.008224251\n",
       "25 0        0.036274887\n",
       "33 0        0.009221179"
      ]
     },
     "metadata": {},
     "output_type": "display_data"
    }
   ],
   "source": [
    "lasso_predict = predict(fit_lasso, lasso_df_test)\n",
    "lasso_actuals_preds = data.frame(cbind(actuals=lasso_df_test$area, predicteds=lasso_predict)) \n",
    "# make actuals_predicteds dataframe.\n",
    "lasso_correlation_accuracy = cor(lasso_actuals_preds)\n",
    "head(lasso_actuals_preds)"
   ]
  },
  {
   "cell_type": "code",
   "execution_count": 51,
   "metadata": {},
   "outputs": [
    {
     "data": {
      "text/html": [
       "<dl class=dl-horizontal>\n",
       "\t<dt>mae</dt>\n",
       "\t\t<dd>0.014662101702653</dd>\n",
       "\t<dt>mse</dt>\n",
       "\t\t<dd>0.000329187326174924</dd>\n",
       "\t<dt>rmse</dt>\n",
       "\t\t<dd>0.0181435202255495</dd>\n",
       "\t<dt>mape</dt>\n",
       "\t\t<dd>Inf</dd>\n",
       "</dl>\n"
      ],
      "text/latex": [
       "\\begin{description*}\n",
       "\\item[mae] 0.014662101702653\n",
       "\\item[mse] 0.000329187326174924\n",
       "\\item[rmse] 0.0181435202255495\n",
       "\\item[mape] Inf\n",
       "\\end{description*}\n"
      ],
      "text/markdown": [
       "mae\n",
       ":   0.014662101702653mse\n",
       ":   0.000329187326174924rmse\n",
       ":   0.0181435202255495mape\n",
       ":   Inf\n",
       "\n"
      ],
      "text/plain": [
       "         mae          mse         rmse         mape \n",
       "0.0146621017 0.0003291873 0.0181435202          Inf "
      ]
     },
     "metadata": {},
     "output_type": "display_data"
    }
   ],
   "source": [
    "DMwR::regr.eval(lasso_actuals_preds$actuals, lasso_actuals_preds$predicteds)"
   ]
  },
  {
   "cell_type": "markdown",
   "metadata": {},
   "source": [
    "#### Linear regression with Forward Selection"
   ]
  },
  {
   "cell_type": "code",
   "execution_count": 52,
   "metadata": {
    "scrolled": true
   },
   "outputs": [
    {
     "data": {
      "text/html": [
       "<table>\n",
       "<thead><tr><th></th><th scope=col>actuals</th><th scope=col>predicteds</th></tr></thead>\n",
       "<tbody>\n",
       "\t<tr><th scope=row>3</th><td>0          </td><td>0.010736110</td></tr>\n",
       "\t<tr><th scope=row>5</th><td>0          </td><td>0.004722224</td></tr>\n",
       "\t<tr><th scope=row>21</th><td>0          </td><td>0.015085217</td></tr>\n",
       "\t<tr><th scope=row>22</th><td>0          </td><td>0.014226878</td></tr>\n",
       "\t<tr><th scope=row>25</th><td>0          </td><td>0.027225776</td></tr>\n",
       "\t<tr><th scope=row>33</th><td>0          </td><td>0.007151805</td></tr>\n",
       "</tbody>\n",
       "</table>\n"
      ],
      "text/latex": [
       "\\begin{tabular}{r|ll}\n",
       "  & actuals & predicteds\\\\\n",
       "\\hline\n",
       "\t3 & 0           & 0.010736110\\\\\n",
       "\t5 & 0           & 0.004722224\\\\\n",
       "\t21 & 0           & 0.015085217\\\\\n",
       "\t22 & 0           & 0.014226878\\\\\n",
       "\t25 & 0           & 0.027225776\\\\\n",
       "\t33 & 0           & 0.007151805\\\\\n",
       "\\end{tabular}\n"
      ],
      "text/markdown": [
       "\n",
       "| <!--/--> | actuals | predicteds |\n",
       "|---|---|---|\n",
       "| 3 | 0           | 0.010736110 |\n",
       "| 5 | 0           | 0.004722224 |\n",
       "| 21 | 0           | 0.015085217 |\n",
       "| 22 | 0           | 0.014226878 |\n",
       "| 25 | 0           | 0.027225776 |\n",
       "| 33 | 0           | 0.007151805 |\n",
       "\n"
      ],
      "text/plain": [
       "   actuals predicteds \n",
       "3  0       0.010736110\n",
       "5  0       0.004722224\n",
       "21 0       0.015085217\n",
       "22 0       0.014226878\n",
       "25 0       0.027225776\n",
       "33 0       0.007151805"
      ]
     },
     "metadata": {},
     "output_type": "display_data"
    }
   ],
   "source": [
    "fwd_predict = predict(fit_fd, fwd_df_test)\n",
    "fwd_actuals_preds = data.frame(cbind(actuals=fwd_df_test$area, predicteds=fwd_predict))\n",
    "# make actuals_predicteds dataframe.\n",
    "fwd_correlation_accuracy = cor(fwd_actuals_preds)\n",
    "head(fwd_actuals_preds)"
   ]
  },
  {
   "cell_type": "code",
   "execution_count": 53,
   "metadata": {},
   "outputs": [
    {
     "data": {
      "text/html": [
       "<dl class=dl-horizontal>\n",
       "\t<dt>mae</dt>\n",
       "\t\t<dd>0.0113172518343877</dd>\n",
       "\t<dt>mse</dt>\n",
       "\t\t<dd>0.000167966645112567</dd>\n",
       "\t<dt>rmse</dt>\n",
       "\t\t<dd>0.0129601946402269</dd>\n",
       "\t<dt>mape</dt>\n",
       "\t\t<dd>Inf</dd>\n",
       "</dl>\n"
      ],
      "text/latex": [
       "\\begin{description*}\n",
       "\\item[mae] 0.0113172518343877\n",
       "\\item[mse] 0.000167966645112567\n",
       "\\item[rmse] 0.0129601946402269\n",
       "\\item[mape] Inf\n",
       "\\end{description*}\n"
      ],
      "text/markdown": [
       "mae\n",
       ":   0.0113172518343877mse\n",
       ":   0.000167966645112567rmse\n",
       ":   0.0129601946402269mape\n",
       ":   Inf\n",
       "\n"
      ],
      "text/plain": [
       "         mae          mse         rmse         mape \n",
       "0.0113172518 0.0001679666 0.0129601946          Inf "
      ]
     },
     "metadata": {},
     "output_type": "display_data"
    }
   ],
   "source": [
    "DMwR::regr.eval(fwd_actuals_preds$actuals, fwd_actuals_preds$predicteds)"
   ]
  },
  {
   "cell_type": "markdown",
   "metadata": {},
   "source": [
    "#### Linear Regression with Backward Selection"
   ]
  },
  {
   "cell_type": "code",
   "execution_count": 54,
   "metadata": {
    "scrolled": false
   },
   "outputs": [
    {
     "data": {
      "text/html": [
       "<table>\n",
       "<thead><tr><th></th><th scope=col>actuals</th><th scope=col>predicteds</th></tr></thead>\n",
       "<tbody>\n",
       "\t<tr><th scope=row>3</th><td>0          </td><td>0.012025243</td></tr>\n",
       "\t<tr><th scope=row>5</th><td>0          </td><td>0.008855216</td></tr>\n",
       "\t<tr><th scope=row>21</th><td>0          </td><td>0.019514581</td></tr>\n",
       "\t<tr><th scope=row>22</th><td>0          </td><td>0.014977145</td></tr>\n",
       "\t<tr><th scope=row>25</th><td>0          </td><td>0.018760968</td></tr>\n",
       "\t<tr><th scope=row>33</th><td>0          </td><td>0.017701509</td></tr>\n",
       "</tbody>\n",
       "</table>\n"
      ],
      "text/latex": [
       "\\begin{tabular}{r|ll}\n",
       "  & actuals & predicteds\\\\\n",
       "\\hline\n",
       "\t3 & 0           & 0.012025243\\\\\n",
       "\t5 & 0           & 0.008855216\\\\\n",
       "\t21 & 0           & 0.019514581\\\\\n",
       "\t22 & 0           & 0.014977145\\\\\n",
       "\t25 & 0           & 0.018760968\\\\\n",
       "\t33 & 0           & 0.017701509\\\\\n",
       "\\end{tabular}\n"
      ],
      "text/markdown": [
       "\n",
       "| <!--/--> | actuals | predicteds |\n",
       "|---|---|---|\n",
       "| 3 | 0           | 0.012025243 |\n",
       "| 5 | 0           | 0.008855216 |\n",
       "| 21 | 0           | 0.019514581 |\n",
       "| 22 | 0           | 0.014977145 |\n",
       "| 25 | 0           | 0.018760968 |\n",
       "| 33 | 0           | 0.017701509 |\n",
       "\n"
      ],
      "text/plain": [
       "   actuals predicteds \n",
       "3  0       0.012025243\n",
       "5  0       0.008855216\n",
       "21 0       0.019514581\n",
       "22 0       0.014977145\n",
       "25 0       0.018760968\n",
       "33 0       0.017701509"
      ]
     },
     "metadata": {},
     "output_type": "display_data"
    }
   ],
   "source": [
    "bw_predict = predict(fit_bw, bw_df_test)\n",
    "bw_actuals_preds = data.frame(cbind(actuals=bw_df_test$area, predicteds=bw_predict)) \n",
    "# make actuals_predicteds dataframe.\n",
    "bw_correlation_accuracy = cor(bw_actuals_preds)\n",
    "head(bw_actuals_preds)"
   ]
  },
  {
   "cell_type": "code",
   "execution_count": 55,
   "metadata": {},
   "outputs": [
    {
     "data": {
      "text/html": [
       "<dl class=dl-horizontal>\n",
       "\t<dt>mae</dt>\n",
       "\t\t<dd>0.0115585548539157</dd>\n",
       "\t<dt>mse</dt>\n",
       "\t\t<dd>0.000196397959406963</dd>\n",
       "\t<dt>rmse</dt>\n",
       "\t\t<dd>0.014014205628824</dd>\n",
       "\t<dt>mape</dt>\n",
       "\t\t<dd>Inf</dd>\n",
       "</dl>\n"
      ],
      "text/latex": [
       "\\begin{description*}\n",
       "\\item[mae] 0.0115585548539157\n",
       "\\item[mse] 0.000196397959406963\n",
       "\\item[rmse] 0.014014205628824\n",
       "\\item[mape] Inf\n",
       "\\end{description*}\n"
      ],
      "text/markdown": [
       "mae\n",
       ":   0.0115585548539157mse\n",
       ":   0.000196397959406963rmse\n",
       ":   0.014014205628824mape\n",
       ":   Inf\n",
       "\n"
      ],
      "text/plain": [
       "        mae         mse        rmse        mape \n",
       "0.011558555 0.000196398 0.014014206         Inf "
      ]
     },
     "metadata": {},
     "output_type": "display_data"
    }
   ],
   "source": [
    "DMwR::regr.eval(bw_actuals_preds$actuals, bw_actuals_preds$predicteds)"
   ]
  },
  {
   "cell_type": "markdown",
   "metadata": {},
   "source": [
    "By comparing the models we find:\n",
    "\n",
    "- Forward Selection has the smallest MAE(Mean Absolute error). Small MAE tells us that it is the better model. However, it is important to note there isn't much difference between the models.\n",
    "\n",
    "- Forward Selection also has the smallest MSE(MEan squared error). Just like MAE, a smller MSE is a good thing. However, just like the previous indicator, there isn'tmuch difference between the models.\n",
    "\n",
    "- Forward Selection also has the smallest RMSE(Root Mean Squared Error). And again, there isn't much difference amongst them all."
   ]
  },
  {
   "cell_type": "markdown",
   "metadata": {},
   "source": [
    "Forward selection seems to be our best model although it has a very slight lead over the others."
   ]
  },
  {
   "cell_type": "markdown",
   "metadata": {},
   "source": [
    "### Variable Importance"
   ]
  },
  {
   "cell_type": "code",
   "execution_count": 56,
   "metadata": {
    "scrolled": false
   },
   "outputs": [
    {
     "data": {
      "image/png": "[encoded data removed]",
      "text/plain": [
       "plot without title"
      ]
     },
     "metadata": {},
     "output_type": "display_data"
    },
    {
     "data": {
      "image/png": "[encoded data removed]",
      "text/plain": [
       "plot without title"
      ]
     },
     "metadata": {},
     "output_type": "display_data"
    },
    {
     "data": {
      "image/png": "[encoded data removed]",
      "text/plain": [
       "plot without title"
      ]
     },
     "metadata": {},
     "output_type": "display_data"
    },
    {
     "data": {
      "image/png": "[encoded data removed]",
      "text/plain": [
       "plot without title"
      ]
     },
     "metadata": {},
     "output_type": "display_data"
    }
   ],
   "source": [
    "par(mfrow = c(2,2))\n",
    "plot(varImp(lm.lm, scale = TRUE), main = \"Variable importance for linear regression\")\n",
    "plot(varImp(lm.lasso, scale = TRUE), main = \"Variable importance for linear regression with Lasso Selection\")\n",
    "plot(varImp(lm.fwd, scale = TRUE), main = \"Variable importance for linear regressionwith Forward Selection\")\n",
    "plot(varImp(lm.bw, scale = TRUE), main = \"Variable importance for linear regressionwith Backward Selection\")"
   ]
  },
  {
   "cell_type": "markdown",
   "metadata": {},
   "source": [
    "'temp' and 'X' seems to be our most important features to predict the area burned."
   ]
  },
  {
   "cell_type": "markdown",
   "metadata": {},
   "source": [
    "## Conclusion"
   ]
  },
  {
   "cell_type": "markdown",
   "metadata": {},
   "source": [
    "- We performed EDA on our dataset to find out which variables would be best. We noticed a lot of correlation \n",
    "amongst a lot of our variables.\n",
    "\n",
    "- Next we built 4 models to predict our burned area and the Linear regression model with Backwards selection emerged as the best. However, it is important to add that this was a tough prediction problem.\n",
    "\n",
    "- We can also see that the temperature and X-coordiantes were our most important features. This seems logical as the temperature and geography would certainly decide how impactful the fire is going to be."
   ]
  },
  {
   "cell_type": "markdown",
   "metadata": {},
   "source": [
    "## References"
   ]
  },
  {
   "cell_type": "markdown",
   "metadata": {},
   "source": [
    "- House and Wine dataset from Moodle.\n",
    "- https://www.youtube.com/watch?v=Qi9notslCzM (Creating a dummy variable using R)\n",
    "\n"
   ]
  }
 ],
 "metadata": {
  "kernelspec": {
   "display_name": "R",
   "language": "R",
   "name": "ir"
  },
  "language_info": {
   "codemirror_mode": "r",
   "file_extension": ".r",
   "mimetype": "text/x-r-source",
   "name": "R",
   "pygments_lexer": "r",
   "version": "3.6.1"
  }
 },
 "nbformat": 4,
 "nbformat_minor": 2
}
